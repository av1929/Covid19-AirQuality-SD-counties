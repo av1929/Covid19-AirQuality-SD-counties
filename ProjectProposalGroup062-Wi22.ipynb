{
 "cells": [
  {
   "cell_type": "markdown",
   "metadata": {},
   "source": [
    "# COGS 108 - Final Project Proposal"
   ]
  },
  {
   "cell_type": "markdown",
   "metadata": {},
   "source": [
    "# Names\n",
    "\n",
    "- Asher Av\n",
    "- Quoc-Zuy Do\n",
    "- Hector Gallo\n",
    "- Jeremy Nurding\n",
    "- Andres Villegas"
   ]
  },
  {
   "cell_type": "markdown",
   "metadata": {},
   "source": [
    "# Research Question"
   ]
  },
  {
   "cell_type": "markdown",
   "metadata": {},
   "source": [
    "To what extent did the COVID-19 pandemic affect the levels of common air pollutants in major cities across the United States during the years 2020 and 2021?"
   ]
  },
  {
   "cell_type": "markdown",
   "metadata": {},
   "source": [
    "## Background and Prior Work"
   ]
  },
  {
   "cell_type": "markdown",
   "metadata": {},
   "source": [
    "*Fill in your background and prior work here. Be sure to specify which statements are from which references.* \n",
    "\n",
    "\n",
    "-Quoc and Asher- (supply chain, chip shortage, car move to electric)\n",
    "Throughout the course of the COVID-19 pandemic, as infection rates rose more and more states began imposing restrictions on movement. Part of these restrictions were quarantine mandates or \"stay at home orders\" that strongly encouraged people to stay home and not go out except for essential tasks. Furthermore, there were restrictions put in place to bar flights to help stop the spread of the virus. These restrictions on movement likely meant that there were less cars on the road and less planes in the sky which would likely lead to a decrease in air pollution in the regions most heavily impacted by the virus. \n",
    "\n",
    "Prior Work - Among the studies that have been conducted aiming to find to what extent isolation has affected the levels of air pollutants in places around the world, there is one that was conducted in the city of Sao Paulo, Brazil. The researchers took into account the following pollutants: (PM10, PM2.5, NOx, NO, NO2, SO2 and CO), as well as air temperature and a time frame from March 16, 2020 to July 20, 2020. They found a decrease of NO (31.75%), NO2 (20.60%), NOx (27.21%) and CO (29.95%). This could indicate that in our study we could find similar relationships, although the concentrations would obviously vary.\n",
    "Another study that investigated the impacts of isolation on pollution concentration on a big city was the one developed by Arregoces, Rojano, and Restrepo and published by the US National Library of Medicine - National Institute of Health. This study took place in the country of Colombia. Contrary to the study done at Sao Paulo, Brazil, this study took into account a larger time frame, that is, from 2018-2020. With the use of the Terra/MODIS satellite, they measured the PM2.5 concentrations weekly for the country and found a similar decrease in the concentrations of it. Although this study only takes into account PM2.5 and not the other air pollutants, it’s still enough to visualize a decrease in the concentration of pollution.\n",
    "The PNAS study, which focuses on transportation economics, also aims to find what are the effects of less vehicles moving around the world on the concentration of pollutants in the atmosphere. This study, unlike the others, has access to a little less than 10,000 stations around the world that collect information on the air quality and perform data analysis on it. Therefore, from this study we are able to view the situations from a worldwide perspective.\n",
    "\n",
    "References (include links):\n",
    "- 1) https://link.springer.com/article/10.1007/s10668-020-01166-2\n",
    "- 2) https://www.ncbi.nlm.nih.gov/pmc/articles/PMC7546997/"
   ]
  },
  {
   "cell_type": "markdown",
   "metadata": {},
   "source": [
    "# Hypothesis\n"
   ]
  },
  {
   "cell_type": "markdown",
   "metadata": {},
   "source": [
    "We hypothesize that within the U.S. areas with higher infection rates of COVID-19 will have an improvement in air quality. This would be signified by a decrease in common air pollutants such as carbon monoxide, nitrogen dioxide, ozone, particulate matter content in the air, and sulphur dioxide. Alternatively, if the rates at which air pollutants are added to the atmosphere have decreased  this would also indicate an improvement in air quality."
   ]
  },
  {
   "cell_type": "markdown",
   "metadata": {},
   "source": [
    "# Data"
   ]
  },
  {
   "cell_type": "markdown",
   "metadata": {},
   "source": [
    "*Explain what the ideal dataset you would want to answer this question. (This should include: What variables? How many observations? Who/what/how would these data be collected? How would these data be stored/organized?)*"
   ]
  },
  {
   "cell_type": "markdown",
   "metadata": {},
   "source": [
    "# Ethics & Privacy"
   ]
  },
  {
   "cell_type": "markdown",
   "metadata": {},
   "source": [
    "*Fill in your ethics & privacy discussion here*\n",
    "Research on ethics - Andres v"
   ]
  },
  {
   "cell_type": "markdown",
   "metadata": {},
   "source": [
    "# Team Expectations "
   ]
  },
  {
   "cell_type": "markdown",
   "metadata": {},
   "source": [
    "* *Team Expectation 1*\n",
    "* *Team Expectation 2*\n",
    "* *Team Expecation 3*\n",
    "* ...\n",
    "\n",
    "Everyone contributes 1 team expectation"
   ]
  },
  {
   "cell_type": "markdown",
   "metadata": {},
   "source": [
    "# Project Timeline Proposal"
   ]
  },
  {
   "cell_type": "markdown",
   "metadata": {},
   "source": [
    "| Meeting Date  | Meeting Time| Completed Before Meeting  | Discuss at Meeting |\n",
    "|---|---|---|---|\n",
    "| 1/20  |  1 PM | Read & Think about COGS 108 expectations; brainstorm topics/questions  | Determine best form of communication; Discuss and decide on final project topic; discuss hypothesis; begin background research | \n",
    "| 1/26  |  10 AM |  Do background research on topic | Discuss ideal dataset(s) and ethics; draft project proposal | \n",
    "| 2/1  | 10 AM  | Edit, finalize, and submit proposal; Search for datasets  | Discuss Wrangling and possible analytical approaches; Assign group members to lead each specific part   |\n",
    "| 2/14  | 6 PM  | Import & Wrangle Data (Ant Man); EDA (Hulk) | Review/Edit wrangling/EDA; Discuss Analysis Plan   |\n",
    "| 2/23  | 12 PM  | Finalize wrangling/EDA; Begin Analysis (Iron Man; Thor) | Discuss/edit Analysis; Complete project check-in |\n",
    "| 3/13  | 12 PM  | Complete analysis; Draft results/conclusion/discussion (Wasp)| Discuss/edit full project |\n",
    "| 3/19  | Before 11:59 PM  | NA | Turn in Final Project & Group Project Surveys |"
   ]
  }
 ],
 "metadata": {
  "kernelspec": {
   "display_name": "Python 3",
   "language": "python",
   "name": "python3"
  },
  "language_info": {
   "codemirror_mode": {
    "name": "ipython",
    "version": 3
   },
   "file_extension": ".py",
   "mimetype": "text/x-python",
   "name": "python",
   "nbconvert_exporter": "python",
   "pygments_lexer": "ipython3",
   "version": "3.7.9"
  }
 },
 "nbformat": 4,
 "nbformat_minor": 2
}
