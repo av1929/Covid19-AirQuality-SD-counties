{
 "cells": [
  {
   "cell_type": "markdown",
   "metadata": {},
   "source": [
    "# COGS 108 - Data Checkpoint"
   ]
  },
  {
   "cell_type": "markdown",
   "metadata": {},
   "source": [
    "# Names\n",
    "\n",
    "- Asher Av\n",
    "- Quoc-Zuy  Do\n",
    "- Hector Gallo\n",
    "- Jeremy Nurding\n",
    "- Andres Villegas"
   ]
  },
  {
   "cell_type": "markdown",
   "metadata": {},
   "source": [
    "<a id='research_question'></a>\n",
    "# Research Question"
   ]
  },
  {
   "cell_type": "markdown",
   "metadata": {},
   "source": [
    "*Fill in your research question here*"
   ]
  },
  {
   "cell_type": "markdown",
   "metadata": {},
   "source": [
    "# Dataset(s)"
   ]
  },
  {
   "cell_type": "markdown",
   "metadata": {},
   "source": [
    "*Fill in your dataset information here*\n",
    "\n",
    "(Copy this information for each dataset)\n",
    "- Dataset Name:\n",
    "- Link to the dataset:\n",
    "- Number of observations:\n",
    "\n",
    "1-2 sentences describing each dataset. \n",
    "\n",
    "If you plan to use multiple datasets, add 1-2 sentences about how you plan to combine these datasets.\n",
    "\n",
    "\n",
    "**Data Set Name: COVID-19 Data - US Counties from NYTimes**\n",
    "- Link to Dataset: https://github.com/nytimes/covid-19-data\n",
    "- Number of Obsevations: 2,170,941 \n",
    "- <ins>Description of Dataset:</ins> This dataset is collated from  data across the U.S. by the New York Times and draws from the official reportings about the cumulative number of cases and deaths reported in each county and state across the U.S since the start of the COVID-19 pandemic. This dataset contains 6 columns of  data: date, county, state, fips, cases and  deaths. The FIPS column  crefers to a FIPS code, a geographic identifier that determines the location of the county the data was pulled from and makes it easy to associate with other datasets\n",
    "\n",
    "**Data Set Name: Air Quality Across Countries in COVID-19**\n",
    "- Link to Dataset: https://www.kaggle.com/aestheteaman01/air-quality-across-countries-in-covid19/version/3?select=USA.csv\n",
    "- Number of Observations: 179,365\n",
    "- <ins>Description of Dataset:</ins> This dataset shows the collected information of the air quality from 2020-2021 across countries including Brazil, Canada, France, Italy, India, and USA and their respective cities. The parameters that they use to show the air quality for each of the cities are the following: Carbon Monoxide (CO), Dew (dew), Humidity (humidity), Nitrogen Dioxide (NO2), Ozone (O3), Particulate Matter 10 (pm10, Particulate Matter 2.5 (pm25), Pressure (pressure), Sulphur Dioxide (SO2), Temperature, Wind Gusts, and Wind Speed.\n",
    "\n",
    "**Data Set Name: Air Quality Statistics by County, 2020**\n",
    "- Link to Dataset: https://www.epa.gov/air-trends/air-quality-cities-and-counties \n",
    "- Number of Observations: 1,144\n",
    "- <ins>Description of Dataset:</ins> The data set “Air Quality Statistics by County, 2020” presents data of counties with highest levels of air pollutants across states in the United States.  This data set is organized alphabetically in rows by state, each county is assigned to its state accordingly and also arranged in alphabetical order.  There are a total of 1162 rows in this data set and out of the total of rows however 1144 rows contain observations of air pollutants for specific counties.  This dataset contains 13 columns from left to right as follows: State, County, County FIPS Code, 2010 population, CO, Pb, NO2 AM (ppb), NO2 hr (ppb), O3, PM10, PM2.5 Wtd AM, PM2.5 hr, and SO2.  These show the highest number of such pollutant in the given area."
   ]
  },
  {
   "cell_type": "markdown",
   "metadata": {},
   "source": [
    "# Setup"
   ]
  },
  {
   "cell_type": "markdown",
   "metadata": {},
   "source": [
    "##### Import Modules"
   ]
  },
  {
   "cell_type": "code",
   "execution_count": 2,
   "metadata": {},
   "outputs": [],
   "source": [
    "import pandas as pd\n",
    "import seaborn as sns\n",
    "import numpy as np\n",
    "import matplotlib.pyplot as plt"
   ]
  },
  {
   "cell_type": "code",
   "execution_count": 5,
   "metadata": {},
   "outputs": [
    {
     "data": {
      "text/html": [
       "<div>\n",
       "<style scoped>\n",
       "    .dataframe tbody tr th:only-of-type {\n",
       "        vertical-align: middle;\n",
       "    }\n",
       "\n",
       "    .dataframe tbody tr th {\n",
       "        vertical-align: top;\n",
       "    }\n",
       "\n",
       "    .dataframe thead th {\n",
       "        text-align: right;\n",
       "    }\n",
       "</style>\n",
       "<table border=\"1\" class=\"dataframe\">\n",
       "  <thead>\n",
       "    <tr style=\"text-align: right;\">\n",
       "      <th></th>\n",
       "      <th>Date</th>\n",
       "      <th>Country</th>\n",
       "      <th>City</th>\n",
       "      <th>Specie</th>\n",
       "      <th>count</th>\n",
       "      <th>min</th>\n",
       "      <th>max</th>\n",
       "      <th>median</th>\n",
       "      <th>variance</th>\n",
       "    </tr>\n",
       "  </thead>\n",
       "  <tbody>\n",
       "    <tr>\n",
       "      <th>0</th>\n",
       "      <td>13-06-2021</td>\n",
       "      <td>UNITED STATES</td>\n",
       "      <td>Oklahoma City</td>\n",
       "      <td>o3</td>\n",
       "      <td>48</td>\n",
       "      <td>8.0</td>\n",
       "      <td>45.6</td>\n",
       "      <td>26.4</td>\n",
       "      <td>1207.36</td>\n",
       "    </tr>\n",
       "    <tr>\n",
       "      <th>1</th>\n",
       "      <td>19-04-2021</td>\n",
       "      <td>UNITED STATES</td>\n",
       "      <td>Oklahoma City</td>\n",
       "      <td>o3</td>\n",
       "      <td>45</td>\n",
       "      <td>3.2</td>\n",
       "      <td>47.2</td>\n",
       "      <td>32.8</td>\n",
       "      <td>2046.93</td>\n",
       "    </tr>\n",
       "    <tr>\n",
       "      <th>2</th>\n",
       "      <td>24-06-2021</td>\n",
       "      <td>UNITED STATES</td>\n",
       "      <td>Oklahoma City</td>\n",
       "      <td>o3</td>\n",
       "      <td>48</td>\n",
       "      <td>14.5</td>\n",
       "      <td>36.1</td>\n",
       "      <td>28.1</td>\n",
       "      <td>312.87</td>\n",
       "    </tr>\n",
       "    <tr>\n",
       "      <th>3</th>\n",
       "      <td>19-07-2021</td>\n",
       "      <td>UNITED STATES</td>\n",
       "      <td>Oklahoma City</td>\n",
       "      <td>o3</td>\n",
       "      <td>46</td>\n",
       "      <td>13.6</td>\n",
       "      <td>40.0</td>\n",
       "      <td>28.9</td>\n",
       "      <td>893.52</td>\n",
       "    </tr>\n",
       "    <tr>\n",
       "      <th>4</th>\n",
       "      <td>25-09-2021</td>\n",
       "      <td>UNITED STATES</td>\n",
       "      <td>Oklahoma City</td>\n",
       "      <td>o3</td>\n",
       "      <td>48</td>\n",
       "      <td>19.2</td>\n",
       "      <td>62.2</td>\n",
       "      <td>40.0</td>\n",
       "      <td>1398.22</td>\n",
       "    </tr>\n",
       "  </tbody>\n",
       "</table>\n",
       "</div>"
      ],
      "text/plain": [
       "         Date        Country           City Specie  count   min   max  median  \\\n",
       "0  13-06-2021  UNITED STATES  Oklahoma City     o3     48   8.0  45.6    26.4   \n",
       "1  19-04-2021  UNITED STATES  Oklahoma City     o3     45   3.2  47.2    32.8   \n",
       "2  24-06-2021  UNITED STATES  Oklahoma City     o3     48  14.5  36.1    28.1   \n",
       "3  19-07-2021  UNITED STATES  Oklahoma City     o3     46  13.6  40.0    28.9   \n",
       "4  25-09-2021  UNITED STATES  Oklahoma City     o3     48  19.2  62.2    40.0   \n",
       "\n",
       "   variance  \n",
       "0   1207.36  \n",
       "1   2046.93  \n",
       "2    312.87  \n",
       "3    893.52  \n",
       "4   1398.22  "
      ]
     },
     "execution_count": 5,
     "metadata": {},
     "output_type": "execute_result"
    }
   ],
   "source": [
    "# nytimes daily covid dataset\n",
    "covid_df = pd.read_csv('https://raw.githubusercontent.com/nytimes/covid-19-data/master/us-counties.csv')\n",
    "\n",
    "# Kaggle air quality dataset\n",
    "kagaq_df = pd.read_csv('https://raw.githubusercontent.com/asherbav/covid_pollution_files/main/USA.csv')\n",
    "\n",
    "# EPA air quality dataset \n",
    "epa_df = pd.read_csv('https://raw.githubusercontent.com/asherbav/covid_pollution_files/main/ctyfactbook2020.csv')\n"
   ]
  },
  {
   "cell_type": "markdown",
   "metadata": {},
   "source": [
    "# Data Cleaning"
   ]
  },
  {
   "cell_type": "markdown",
   "metadata": {},
   "source": [
    "Describe your data cleaning steps here."
   ]
  },
  {
   "cell_type": "code",
   "execution_count": null,
   "metadata": {},
   "outputs": [],
   "source": [
    "## YOUR CODE HERE\n",
    "## FEEL FREE TO ADD MULTIPLE CELLS PER SECTION"
   ]
  }
 ],
 "metadata": {
  "kernelspec": {
   "display_name": "Python 3 (ipykernel)",
   "language": "python",
   "name": "python3"
  },
  "language_info": {
   "codemirror_mode": {
    "name": "ipython",
    "version": 3
   },
   "file_extension": ".py",
   "mimetype": "text/x-python",
   "name": "python",
   "nbconvert_exporter": "python",
   "pygments_lexer": "ipython3",
   "version": "3.8.8"
  }
 },
 "nbformat": 4,
 "nbformat_minor": 2
}
