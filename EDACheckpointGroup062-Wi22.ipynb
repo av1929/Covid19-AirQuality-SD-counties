{
 "cells": [
  {
   "cell_type": "markdown",
   "metadata": {},
   "source": [
    "# COGS 108 - EDA Checkpoint"
   ]
  },
  {
   "cell_type": "markdown",
   "metadata": {},
   "source": [
    "# Names\n",
    "\n",
    "- Asher Av\n",
    "- Quoc-Zuy Do\n",
    "- Hector Gallo\n",
    "- Jeremy Nurding\n",
    "- Andres Villegas"
   ]
  },
  {
   "cell_type": "markdown",
   "metadata": {},
   "source": [
    "<a id='research_question'></a>\n",
    "# Research Question"
   ]
  },
  {
   "cell_type": "markdown",
   "metadata": {},
   "source": [
    "Is there a statistically significant relationship between COVID-19 cases and air quality measures such as the levels of NO2 in the atmosphere and AQI (Air Quality Index) in San Diego county during the years 2020 and 2021?"
   ]
  },
  {
   "cell_type": "markdown",
   "metadata": {},
   "source": [
    "# Setup"
   ]
  },
  {
   "cell_type": "markdown",
   "metadata": {},
   "source": [
    "#### Import Modules"
   ]
  },
  {
   "cell_type": "code",
   "execution_count": 1,
   "metadata": {},
   "outputs": [],
   "source": [
    "import pandas as pd\n",
    "import seaborn as sns\n",
    "import numpy as np\n",
    "import matplotlib.pyplot as plt"
   ]
  },
  {
   "cell_type": "markdown",
   "metadata": {},
   "source": [
    "#### Import datasets"
   ]
  },
  {
   "cell_type": "code",
   "execution_count": 2,
   "metadata": {},
   "outputs": [],
   "source": [
    "# nytimes daily covid dataset\n",
    "covid_df = pd.read_csv('https://raw.githubusercontent.com/nytimes/covid-19-data/master/us-counties.csv')\n",
    "\n",
    "# EPA 2016 NO2 dataset \n",
    "epa2016_df = pd.read_csv('https://raw.githubusercontent.com/asherbav/covid_pollution_files/main/epa2016.csv')\n",
    "\n",
    "# EPA 2017 NO2 dataset \n",
    "epa2017_df = pd.read_csv('https://raw.githubusercontent.com/asherbav/covid_pollution_files/main/epa2017.csv')\n",
    "\n",
    "# EPA 2018 NO2 dataset \n",
    "epa2018_df = pd.read_csv('https://raw.githubusercontent.com/asherbav/covid_pollution_files/main/epa2018.csv')\n",
    "\n",
    "# EPA 2019 NO2 dataset \n",
    "epa2019_df = pd.read_csv('https://raw.githubusercontent.com/asherbav/covid_pollution_files/main/epa2019.csv')\n",
    "\n",
    "# EPA 2020 NO2 dataset\n",
    "epa2020_df = pd.read_csv('https://raw.githubusercontent.com/asherbav/covid_pollution_files/main/epa2020.csv')\n",
    "\n",
    "# EPA 2021 NO2 dataset \n",
    "epa2021_df = pd.read_csv('https://raw.githubusercontent.com/asherbav/covid_pollution_files/main/epa2021.csv')\n"
   ]
  },
  {
   "cell_type": "markdown",
   "metadata": {},
   "source": [
    "# Data Cleaning"
   ]
  },
  {
   "cell_type": "markdown",
   "metadata": {},
   "source": [
    "---\n",
    "### COVID-19 Dataset Cleaning\n",
    "The first thing that we want to do is take a look at the original datasets to see what they look like. We first take a look at the COVID-19 Dataset titled: \"COVID-19 Data - US Counties from NYTimes\"."
   ]
  },
  {
   "cell_type": "code",
   "execution_count": 3,
   "metadata": {},
   "outputs": [
    {
     "data": {
      "text/html": [
       "<div>\n",
       "<style scoped>\n",
       "    .dataframe tbody tr th:only-of-type {\n",
       "        vertical-align: middle;\n",
       "    }\n",
       "\n",
       "    .dataframe tbody tr th {\n",
       "        vertical-align: top;\n",
       "    }\n",
       "\n",
       "    .dataframe thead th {\n",
       "        text-align: right;\n",
       "    }\n",
       "</style>\n",
       "<table border=\"1\" class=\"dataframe\">\n",
       "  <thead>\n",
       "    <tr style=\"text-align: right;\">\n",
       "      <th></th>\n",
       "      <th>date</th>\n",
       "      <th>county</th>\n",
       "      <th>state</th>\n",
       "      <th>fips</th>\n",
       "      <th>cases</th>\n",
       "      <th>deaths</th>\n",
       "    </tr>\n",
       "  </thead>\n",
       "  <tbody>\n",
       "    <tr>\n",
       "      <th>0</th>\n",
       "      <td>2020-01-21</td>\n",
       "      <td>Snohomish</td>\n",
       "      <td>Washington</td>\n",
       "      <td>53061.0</td>\n",
       "      <td>1</td>\n",
       "      <td>0.0</td>\n",
       "    </tr>\n",
       "    <tr>\n",
       "      <th>1</th>\n",
       "      <td>2020-01-22</td>\n",
       "      <td>Snohomish</td>\n",
       "      <td>Washington</td>\n",
       "      <td>53061.0</td>\n",
       "      <td>1</td>\n",
       "      <td>0.0</td>\n",
       "    </tr>\n",
       "    <tr>\n",
       "      <th>2</th>\n",
       "      <td>2020-01-23</td>\n",
       "      <td>Snohomish</td>\n",
       "      <td>Washington</td>\n",
       "      <td>53061.0</td>\n",
       "      <td>1</td>\n",
       "      <td>0.0</td>\n",
       "    </tr>\n",
       "    <tr>\n",
       "      <th>3</th>\n",
       "      <td>2020-01-24</td>\n",
       "      <td>Cook</td>\n",
       "      <td>Illinois</td>\n",
       "      <td>17031.0</td>\n",
       "      <td>1</td>\n",
       "      <td>0.0</td>\n",
       "    </tr>\n",
       "    <tr>\n",
       "      <th>4</th>\n",
       "      <td>2020-01-24</td>\n",
       "      <td>Snohomish</td>\n",
       "      <td>Washington</td>\n",
       "      <td>53061.0</td>\n",
       "      <td>1</td>\n",
       "      <td>0.0</td>\n",
       "    </tr>\n",
       "    <tr>\n",
       "      <th>...</th>\n",
       "      <td>...</td>\n",
       "      <td>...</td>\n",
       "      <td>...</td>\n",
       "      <td>...</td>\n",
       "      <td>...</td>\n",
       "      <td>...</td>\n",
       "    </tr>\n",
       "    <tr>\n",
       "      <th>2248988</th>\n",
       "      <td>2022-02-24</td>\n",
       "      <td>Sweetwater</td>\n",
       "      <td>Wyoming</td>\n",
       "      <td>56037.0</td>\n",
       "      <td>10984</td>\n",
       "      <td>123.0</td>\n",
       "    </tr>\n",
       "    <tr>\n",
       "      <th>2248989</th>\n",
       "      <td>2022-02-24</td>\n",
       "      <td>Teton</td>\n",
       "      <td>Wyoming</td>\n",
       "      <td>56039.0</td>\n",
       "      <td>9760</td>\n",
       "      <td>16.0</td>\n",
       "    </tr>\n",
       "    <tr>\n",
       "      <th>2248990</th>\n",
       "      <td>2022-02-24</td>\n",
       "      <td>Uinta</td>\n",
       "      <td>Wyoming</td>\n",
       "      <td>56041.0</td>\n",
       "      <td>5612</td>\n",
       "      <td>36.0</td>\n",
       "    </tr>\n",
       "    <tr>\n",
       "      <th>2248991</th>\n",
       "      <td>2022-02-24</td>\n",
       "      <td>Washakie</td>\n",
       "      <td>Wyoming</td>\n",
       "      <td>56043.0</td>\n",
       "      <td>2332</td>\n",
       "      <td>43.0</td>\n",
       "    </tr>\n",
       "    <tr>\n",
       "      <th>2248992</th>\n",
       "      <td>2022-02-24</td>\n",
       "      <td>Weston</td>\n",
       "      <td>Wyoming</td>\n",
       "      <td>56045.0</td>\n",
       "      <td>1539</td>\n",
       "      <td>18.0</td>\n",
       "    </tr>\n",
       "  </tbody>\n",
       "</table>\n",
       "<p>2248993 rows × 6 columns</p>\n",
       "</div>"
      ],
      "text/plain": [
       "               date      county       state     fips  cases  deaths\n",
       "0        2020-01-21   Snohomish  Washington  53061.0      1     0.0\n",
       "1        2020-01-22   Snohomish  Washington  53061.0      1     0.0\n",
       "2        2020-01-23   Snohomish  Washington  53061.0      1     0.0\n",
       "3        2020-01-24        Cook    Illinois  17031.0      1     0.0\n",
       "4        2020-01-24   Snohomish  Washington  53061.0      1     0.0\n",
       "...             ...         ...         ...      ...    ...     ...\n",
       "2248988  2022-02-24  Sweetwater     Wyoming  56037.0  10984   123.0\n",
       "2248989  2022-02-24       Teton     Wyoming  56039.0   9760    16.0\n",
       "2248990  2022-02-24       Uinta     Wyoming  56041.0   5612    36.0\n",
       "2248991  2022-02-24    Washakie     Wyoming  56043.0   2332    43.0\n",
       "2248992  2022-02-24      Weston     Wyoming  56045.0   1539    18.0\n",
       "\n",
       "[2248993 rows x 6 columns]"
      ]
     },
     "execution_count": 3,
     "metadata": {},
     "output_type": "execute_result"
    }
   ],
   "source": [
    "covid_df"
   ]
  },
  {
   "cell_type": "markdown",
   "metadata": {},
   "source": [
    "We then want to check if there are any null-values that we might want to get rid of  using isnull().sum. We see that there are a bunch of null values inside of the death's columns and the FIPS column. "
   ]
  },
  {
   "cell_type": "code",
   "execution_count": 4,
   "metadata": {},
   "outputs": [
    {
     "data": {
      "text/plain": [
       "date          0\n",
       "county        0\n",
       "state         0\n",
       "fips      20923\n",
       "cases         0\n",
       "deaths    51521\n",
       "dtype: int64"
      ]
     },
     "execution_count": 4,
     "metadata": {},
     "output_type": "execute_result"
    }
   ],
   "source": [
    "covid_df.isnull().sum()"
   ]
  },
  {
   "cell_type": "markdown",
   "metadata": {},
   "source": [
    "However, we do not need either of these columns for our analysis. Our group is trying to investigate the relationship between COVID-19  cases in San Diego county and the levels of NO<sub>2</sub>  in the atmosphere. This being said, the number of deaths over this period will not be necesssary for our analysis. In addition since our scope is being narrowed to only look at San Diego county, we do not need the FIPS geographic identifiers or the state column."
   ]
  },
  {
   "cell_type": "code",
   "execution_count": 5,
   "metadata": {},
   "outputs": [],
   "source": [
    "col_drop = ['deaths', 'fips', 'state']\n",
    "\n",
    "covid_df = covid_df.drop(col_drop, axis = 1)\n",
    "covid_df = covid_df.dropna()\n"
   ]
  },
  {
   "cell_type": "markdown",
   "metadata": {},
   "source": [
    "Now we will sort the data to only look at San Diego County to narrow our geographical scope, then we can remove the column entirely because we know all the remaining data will be for San Diego county."
   ]
  },
  {
   "cell_type": "code",
   "execution_count": 6,
   "metadata": {},
   "outputs": [],
   "source": [
    "covid_df_sd = covid_df[covid_df['county'] == 'San Diego']\n",
    "covid_df_sd = covid_df_sd.drop(['county'], axis = 1)"
   ]
  },
  {
   "cell_type": "markdown",
   "metadata": {},
   "source": [
    "At this point we are done cleaning the COVID-19 dataset. We run isnull() again to double check that all the NULL/NaN values have been removed from out dataset properly."
   ]
  },
  {
   "cell_type": "code",
   "execution_count": 7,
   "metadata": {},
   "outputs": [
    {
     "data": {
      "text/plain": [
       "date     0\n",
       "cases    0\n",
       "dtype: int64"
      ]
     },
     "execution_count": 7,
     "metadata": {},
     "output_type": "execute_result"
    }
   ],
   "source": [
    "covid_df_sd.isnull().sum()"
   ]
  },
  {
   "cell_type": "markdown",
   "metadata": {},
   "source": [
    "Now we capitalize the column names and drop invalid values from dataframe."
   ]
  },
  {
   "cell_type": "code",
   "execution_count": 8,
   "metadata": {},
   "outputs": [],
   "source": [
    "covid_df_sd = covid_df_sd.rename(columns = {'date': 'Date', 'cases': 'Cases'})\n",
    "covid_df_sd['Date'] = pd.to_datetime(covid_df_sd['Date'])\n",
    "covid_df_sd = covid_df_sd.reset_index(drop=True)\n",
    "covid_df_sd.iloc[[435, 436, 437, 438, 439],[1]] = covid_df_sd.iloc[[435],[1]]\n"
   ]
  },
  {
   "cell_type": "markdown",
   "metadata": {},
   "source": [
    "At this point the COVID-19 data set is in a state we can use for our analysis."
   ]
  },
  {
   "cell_type": "code",
   "execution_count": 9,
   "metadata": {},
   "outputs": [
    {
     "data": {
      "text/html": [
       "<div>\n",
       "<style scoped>\n",
       "    .dataframe tbody tr th:only-of-type {\n",
       "        vertical-align: middle;\n",
       "    }\n",
       "\n",
       "    .dataframe tbody tr th {\n",
       "        vertical-align: top;\n",
       "    }\n",
       "\n",
       "    .dataframe thead th {\n",
       "        text-align: right;\n",
       "    }\n",
       "</style>\n",
       "<table border=\"1\" class=\"dataframe\">\n",
       "  <thead>\n",
       "    <tr style=\"text-align: right;\">\n",
       "      <th></th>\n",
       "      <th>Date</th>\n",
       "      <th>Cases</th>\n",
       "    </tr>\n",
       "  </thead>\n",
       "  <tbody>\n",
       "    <tr>\n",
       "      <th>0</th>\n",
       "      <td>2020-02-10</td>\n",
       "      <td>1</td>\n",
       "    </tr>\n",
       "    <tr>\n",
       "      <th>1</th>\n",
       "      <td>2020-02-11</td>\n",
       "      <td>1</td>\n",
       "    </tr>\n",
       "    <tr>\n",
       "      <th>2</th>\n",
       "      <td>2020-02-12</td>\n",
       "      <td>1</td>\n",
       "    </tr>\n",
       "    <tr>\n",
       "      <th>3</th>\n",
       "      <td>2020-02-13</td>\n",
       "      <td>1</td>\n",
       "    </tr>\n",
       "    <tr>\n",
       "      <th>4</th>\n",
       "      <td>2020-02-14</td>\n",
       "      <td>1</td>\n",
       "    </tr>\n",
       "    <tr>\n",
       "      <th>...</th>\n",
       "      <td>...</td>\n",
       "      <td>...</td>\n",
       "    </tr>\n",
       "    <tr>\n",
       "      <th>741</th>\n",
       "      <td>2022-02-20</td>\n",
       "      <td>777194</td>\n",
       "    </tr>\n",
       "    <tr>\n",
       "      <th>742</th>\n",
       "      <td>2022-02-21</td>\n",
       "      <td>777194</td>\n",
       "    </tr>\n",
       "    <tr>\n",
       "      <th>743</th>\n",
       "      <td>2022-02-22</td>\n",
       "      <td>779943</td>\n",
       "    </tr>\n",
       "    <tr>\n",
       "      <th>744</th>\n",
       "      <td>2022-02-23</td>\n",
       "      <td>782181</td>\n",
       "    </tr>\n",
       "    <tr>\n",
       "      <th>745</th>\n",
       "      <td>2022-02-24</td>\n",
       "      <td>783769</td>\n",
       "    </tr>\n",
       "  </tbody>\n",
       "</table>\n",
       "<p>746 rows × 2 columns</p>\n",
       "</div>"
      ],
      "text/plain": [
       "          Date   Cases\n",
       "0   2020-02-10       1\n",
       "1   2020-02-11       1\n",
       "2   2020-02-12       1\n",
       "3   2020-02-13       1\n",
       "4   2020-02-14       1\n",
       "..         ...     ...\n",
       "741 2022-02-20  777194\n",
       "742 2022-02-21  777194\n",
       "743 2022-02-22  779943\n",
       "744 2022-02-23  782181\n",
       "745 2022-02-24  783769\n",
       "\n",
       "[746 rows x 2 columns]"
      ]
     },
     "execution_count": 9,
     "metadata": {},
     "output_type": "execute_result"
    }
   ],
   "source": [
    "covid_df_sd"
   ]
  },
  {
   "cell_type": "markdown",
   "metadata": {},
   "source": [
    "---\n",
    "### EPA 2020 Air Quality Data Set Cleaning\n",
    "We will repeat the steps for the COVID dataset from above for the dataset titled \"EPA 2020 Air Quality\" and \"EPA 2021 Air Quality\". We display the dataset to get an idea of what it looks like, search for any NULL/NaN values, and then also check the types of all the objects to make sure if everything is in order."
   ]
  },
  {
   "cell_type": "code",
   "execution_count": 10,
   "metadata": {},
   "outputs": [
    {
     "data": {
      "text/html": [
       "<div>\n",
       "<style scoped>\n",
       "    .dataframe tbody tr th:only-of-type {\n",
       "        vertical-align: middle;\n",
       "    }\n",
       "\n",
       "    .dataframe tbody tr th {\n",
       "        vertical-align: top;\n",
       "    }\n",
       "\n",
       "    .dataframe thead th {\n",
       "        text-align: right;\n",
       "    }\n",
       "</style>\n",
       "<table border=\"1\" class=\"dataframe\">\n",
       "  <thead>\n",
       "    <tr style=\"text-align: right;\">\n",
       "      <th></th>\n",
       "      <th>Date</th>\n",
       "      <th>Source</th>\n",
       "      <th>Site ID</th>\n",
       "      <th>POC</th>\n",
       "      <th>Daily Max 1-hour NO2 Concentration</th>\n",
       "      <th>UNITS</th>\n",
       "      <th>DAILY_AQI_VALUE</th>\n",
       "      <th>Site Name</th>\n",
       "      <th>DAILY_OBS_COUNT</th>\n",
       "      <th>PERCENT_COMPLETE</th>\n",
       "      <th>AQS_PARAMETER_CODE</th>\n",
       "      <th>AQS_PARAMETER_DESC</th>\n",
       "      <th>CBSA_CODE</th>\n",
       "      <th>CBSA_NAME</th>\n",
       "      <th>STATE_CODE</th>\n",
       "      <th>STATE</th>\n",
       "      <th>COUNTY_CODE</th>\n",
       "      <th>COUNTY</th>\n",
       "      <th>SITE_LATITUDE</th>\n",
       "      <th>SITE_LONGITUDE</th>\n",
       "    </tr>\n",
       "  </thead>\n",
       "  <tbody>\n",
       "    <tr>\n",
       "      <th>0</th>\n",
       "      <td>01/01/2020</td>\n",
       "      <td>AQS</td>\n",
       "      <td>60730001</td>\n",
       "      <td>1</td>\n",
       "      <td>18</td>\n",
       "      <td>ppb</td>\n",
       "      <td>17</td>\n",
       "      <td>Chula Vista</td>\n",
       "      <td>22</td>\n",
       "      <td>92.0</td>\n",
       "      <td>42602</td>\n",
       "      <td>Nitrogen dioxide (NO2)</td>\n",
       "      <td>41740</td>\n",
       "      <td>San Diego-Carlsbad, CA</td>\n",
       "      <td>6</td>\n",
       "      <td>California</td>\n",
       "      <td>73</td>\n",
       "      <td>San Diego</td>\n",
       "      <td>32.631242</td>\n",
       "      <td>-117.059088</td>\n",
       "    </tr>\n",
       "    <tr>\n",
       "      <th>1</th>\n",
       "      <td>01/02/2020</td>\n",
       "      <td>AQS</td>\n",
       "      <td>60730001</td>\n",
       "      <td>1</td>\n",
       "      <td>35</td>\n",
       "      <td>ppb</td>\n",
       "      <td>33</td>\n",
       "      <td>Chula Vista</td>\n",
       "      <td>22</td>\n",
       "      <td>92.0</td>\n",
       "      <td>42602</td>\n",
       "      <td>Nitrogen dioxide (NO2)</td>\n",
       "      <td>41740</td>\n",
       "      <td>San Diego-Carlsbad, CA</td>\n",
       "      <td>6</td>\n",
       "      <td>California</td>\n",
       "      <td>73</td>\n",
       "      <td>San Diego</td>\n",
       "      <td>32.631242</td>\n",
       "      <td>-117.059088</td>\n",
       "    </tr>\n",
       "    <tr>\n",
       "      <th>2</th>\n",
       "      <td>01/03/2020</td>\n",
       "      <td>AQS</td>\n",
       "      <td>60730001</td>\n",
       "      <td>1</td>\n",
       "      <td>36</td>\n",
       "      <td>ppb</td>\n",
       "      <td>34</td>\n",
       "      <td>Chula Vista</td>\n",
       "      <td>22</td>\n",
       "      <td>92.0</td>\n",
       "      <td>42602</td>\n",
       "      <td>Nitrogen dioxide (NO2)</td>\n",
       "      <td>41740</td>\n",
       "      <td>San Diego-Carlsbad, CA</td>\n",
       "      <td>6</td>\n",
       "      <td>California</td>\n",
       "      <td>73</td>\n",
       "      <td>San Diego</td>\n",
       "      <td>32.631242</td>\n",
       "      <td>-117.059088</td>\n",
       "    </tr>\n",
       "    <tr>\n",
       "      <th>3</th>\n",
       "      <td>01/04/2020</td>\n",
       "      <td>AQS</td>\n",
       "      <td>60730001</td>\n",
       "      <td>1</td>\n",
       "      <td>31</td>\n",
       "      <td>ppb</td>\n",
       "      <td>29</td>\n",
       "      <td>Chula Vista</td>\n",
       "      <td>22</td>\n",
       "      <td>92.0</td>\n",
       "      <td>42602</td>\n",
       "      <td>Nitrogen dioxide (NO2)</td>\n",
       "      <td>41740</td>\n",
       "      <td>San Diego-Carlsbad, CA</td>\n",
       "      <td>6</td>\n",
       "      <td>California</td>\n",
       "      <td>73</td>\n",
       "      <td>San Diego</td>\n",
       "      <td>32.631242</td>\n",
       "      <td>-117.059088</td>\n",
       "    </tr>\n",
       "    <tr>\n",
       "      <th>4</th>\n",
       "      <td>01/05/2020</td>\n",
       "      <td>AQS</td>\n",
       "      <td>60730001</td>\n",
       "      <td>1</td>\n",
       "      <td>36</td>\n",
       "      <td>ppb</td>\n",
       "      <td>34</td>\n",
       "      <td>Chula Vista</td>\n",
       "      <td>22</td>\n",
       "      <td>92.0</td>\n",
       "      <td>42602</td>\n",
       "      <td>Nitrogen dioxide (NO2)</td>\n",
       "      <td>41740</td>\n",
       "      <td>San Diego-Carlsbad, CA</td>\n",
       "      <td>6</td>\n",
       "      <td>California</td>\n",
       "      <td>73</td>\n",
       "      <td>San Diego</td>\n",
       "      <td>32.631242</td>\n",
       "      <td>-117.059088</td>\n",
       "    </tr>\n",
       "    <tr>\n",
       "      <th>...</th>\n",
       "      <td>...</td>\n",
       "      <td>...</td>\n",
       "      <td>...</td>\n",
       "      <td>...</td>\n",
       "      <td>...</td>\n",
       "      <td>...</td>\n",
       "      <td>...</td>\n",
       "      <td>...</td>\n",
       "      <td>...</td>\n",
       "      <td>...</td>\n",
       "      <td>...</td>\n",
       "      <td>...</td>\n",
       "      <td>...</td>\n",
       "      <td>...</td>\n",
       "      <td>...</td>\n",
       "      <td>...</td>\n",
       "      <td>...</td>\n",
       "      <td>...</td>\n",
       "      <td>...</td>\n",
       "      <td>...</td>\n",
       "    </tr>\n",
       "    <tr>\n",
       "      <th>2864</th>\n",
       "      <td>12/27/2020</td>\n",
       "      <td>AQS</td>\n",
       "      <td>60731026</td>\n",
       "      <td>1</td>\n",
       "      <td>11</td>\n",
       "      <td>ppb</td>\n",
       "      <td>10</td>\n",
       "      <td>San Diego - Sherman Elementary School</td>\n",
       "      <td>22</td>\n",
       "      <td>92.0</td>\n",
       "      <td>42602</td>\n",
       "      <td>Nitrogen dioxide (NO2)</td>\n",
       "      <td>41740</td>\n",
       "      <td>San Diego-Carlsbad, CA</td>\n",
       "      <td>6</td>\n",
       "      <td>California</td>\n",
       "      <td>73</td>\n",
       "      <td>San Diego</td>\n",
       "      <td>32.710177</td>\n",
       "      <td>-117.142665</td>\n",
       "    </tr>\n",
       "    <tr>\n",
       "      <th>2865</th>\n",
       "      <td>12/28/2020</td>\n",
       "      <td>AQS</td>\n",
       "      <td>60731026</td>\n",
       "      <td>1</td>\n",
       "      <td>12</td>\n",
       "      <td>ppb</td>\n",
       "      <td>11</td>\n",
       "      <td>San Diego - Sherman Elementary School</td>\n",
       "      <td>22</td>\n",
       "      <td>92.0</td>\n",
       "      <td>42602</td>\n",
       "      <td>Nitrogen dioxide (NO2)</td>\n",
       "      <td>41740</td>\n",
       "      <td>San Diego-Carlsbad, CA</td>\n",
       "      <td>6</td>\n",
       "      <td>California</td>\n",
       "      <td>73</td>\n",
       "      <td>San Diego</td>\n",
       "      <td>32.710177</td>\n",
       "      <td>-117.142665</td>\n",
       "    </tr>\n",
       "    <tr>\n",
       "      <th>2866</th>\n",
       "      <td>12/29/2020</td>\n",
       "      <td>AQS</td>\n",
       "      <td>60731026</td>\n",
       "      <td>1</td>\n",
       "      <td>29</td>\n",
       "      <td>ppb</td>\n",
       "      <td>27</td>\n",
       "      <td>San Diego - Sherman Elementary School</td>\n",
       "      <td>22</td>\n",
       "      <td>92.0</td>\n",
       "      <td>42602</td>\n",
       "      <td>Nitrogen dioxide (NO2)</td>\n",
       "      <td>41740</td>\n",
       "      <td>San Diego-Carlsbad, CA</td>\n",
       "      <td>6</td>\n",
       "      <td>California</td>\n",
       "      <td>73</td>\n",
       "      <td>San Diego</td>\n",
       "      <td>32.710177</td>\n",
       "      <td>-117.142665</td>\n",
       "    </tr>\n",
       "    <tr>\n",
       "      <th>2867</th>\n",
       "      <td>12/30/2020</td>\n",
       "      <td>AQS</td>\n",
       "      <td>60731026</td>\n",
       "      <td>1</td>\n",
       "      <td>31</td>\n",
       "      <td>ppb</td>\n",
       "      <td>29</td>\n",
       "      <td>San Diego - Sherman Elementary School</td>\n",
       "      <td>20</td>\n",
       "      <td>83.0</td>\n",
       "      <td>42602</td>\n",
       "      <td>Nitrogen dioxide (NO2)</td>\n",
       "      <td>41740</td>\n",
       "      <td>San Diego-Carlsbad, CA</td>\n",
       "      <td>6</td>\n",
       "      <td>California</td>\n",
       "      <td>73</td>\n",
       "      <td>San Diego</td>\n",
       "      <td>32.710177</td>\n",
       "      <td>-117.142665</td>\n",
       "    </tr>\n",
       "    <tr>\n",
       "      <th>2868</th>\n",
       "      <td>12/31/2020</td>\n",
       "      <td>AQS</td>\n",
       "      <td>60731026</td>\n",
       "      <td>1</td>\n",
       "      <td>33</td>\n",
       "      <td>ppb</td>\n",
       "      <td>31</td>\n",
       "      <td>San Diego - Sherman Elementary School</td>\n",
       "      <td>22</td>\n",
       "      <td>92.0</td>\n",
       "      <td>42602</td>\n",
       "      <td>Nitrogen dioxide (NO2)</td>\n",
       "      <td>41740</td>\n",
       "      <td>San Diego-Carlsbad, CA</td>\n",
       "      <td>6</td>\n",
       "      <td>California</td>\n",
       "      <td>73</td>\n",
       "      <td>San Diego</td>\n",
       "      <td>32.710177</td>\n",
       "      <td>-117.142665</td>\n",
       "    </tr>\n",
       "  </tbody>\n",
       "</table>\n",
       "<p>2869 rows × 20 columns</p>\n",
       "</div>"
      ],
      "text/plain": [
       "            Date Source   Site ID  POC  Daily Max 1-hour NO2 Concentration  \\\n",
       "0     01/01/2020    AQS  60730001    1                                  18   \n",
       "1     01/02/2020    AQS  60730001    1                                  35   \n",
       "2     01/03/2020    AQS  60730001    1                                  36   \n",
       "3     01/04/2020    AQS  60730001    1                                  31   \n",
       "4     01/05/2020    AQS  60730001    1                                  36   \n",
       "...          ...    ...       ...  ...                                 ...   \n",
       "2864  12/27/2020    AQS  60731026    1                                  11   \n",
       "2865  12/28/2020    AQS  60731026    1                                  12   \n",
       "2866  12/29/2020    AQS  60731026    1                                  29   \n",
       "2867  12/30/2020    AQS  60731026    1                                  31   \n",
       "2868  12/31/2020    AQS  60731026    1                                  33   \n",
       "\n",
       "     UNITS  DAILY_AQI_VALUE                              Site Name  \\\n",
       "0      ppb               17                            Chula Vista   \n",
       "1      ppb               33                            Chula Vista   \n",
       "2      ppb               34                            Chula Vista   \n",
       "3      ppb               29                            Chula Vista   \n",
       "4      ppb               34                            Chula Vista   \n",
       "...    ...              ...                                    ...   \n",
       "2864   ppb               10  San Diego - Sherman Elementary School   \n",
       "2865   ppb               11  San Diego - Sherman Elementary School   \n",
       "2866   ppb               27  San Diego - Sherman Elementary School   \n",
       "2867   ppb               29  San Diego - Sherman Elementary School   \n",
       "2868   ppb               31  San Diego - Sherman Elementary School   \n",
       "\n",
       "      DAILY_OBS_COUNT  PERCENT_COMPLETE  AQS_PARAMETER_CODE  \\\n",
       "0                  22              92.0               42602   \n",
       "1                  22              92.0               42602   \n",
       "2                  22              92.0               42602   \n",
       "3                  22              92.0               42602   \n",
       "4                  22              92.0               42602   \n",
       "...               ...               ...                 ...   \n",
       "2864               22              92.0               42602   \n",
       "2865               22              92.0               42602   \n",
       "2866               22              92.0               42602   \n",
       "2867               20              83.0               42602   \n",
       "2868               22              92.0               42602   \n",
       "\n",
       "          AQS_PARAMETER_DESC  CBSA_CODE               CBSA_NAME  STATE_CODE  \\\n",
       "0     Nitrogen dioxide (NO2)      41740  San Diego-Carlsbad, CA           6   \n",
       "1     Nitrogen dioxide (NO2)      41740  San Diego-Carlsbad, CA           6   \n",
       "2     Nitrogen dioxide (NO2)      41740  San Diego-Carlsbad, CA           6   \n",
       "3     Nitrogen dioxide (NO2)      41740  San Diego-Carlsbad, CA           6   \n",
       "4     Nitrogen dioxide (NO2)      41740  San Diego-Carlsbad, CA           6   \n",
       "...                      ...        ...                     ...         ...   \n",
       "2864  Nitrogen dioxide (NO2)      41740  San Diego-Carlsbad, CA           6   \n",
       "2865  Nitrogen dioxide (NO2)      41740  San Diego-Carlsbad, CA           6   \n",
       "2866  Nitrogen dioxide (NO2)      41740  San Diego-Carlsbad, CA           6   \n",
       "2867  Nitrogen dioxide (NO2)      41740  San Diego-Carlsbad, CA           6   \n",
       "2868  Nitrogen dioxide (NO2)      41740  San Diego-Carlsbad, CA           6   \n",
       "\n",
       "           STATE  COUNTY_CODE     COUNTY  SITE_LATITUDE  SITE_LONGITUDE  \n",
       "0     California           73  San Diego      32.631242     -117.059088  \n",
       "1     California           73  San Diego      32.631242     -117.059088  \n",
       "2     California           73  San Diego      32.631242     -117.059088  \n",
       "3     California           73  San Diego      32.631242     -117.059088  \n",
       "4     California           73  San Diego      32.631242     -117.059088  \n",
       "...          ...          ...        ...            ...             ...  \n",
       "2864  California           73  San Diego      32.710177     -117.142665  \n",
       "2865  California           73  San Diego      32.710177     -117.142665  \n",
       "2866  California           73  San Diego      32.710177     -117.142665  \n",
       "2867  California           73  San Diego      32.710177     -117.142665  \n",
       "2868  California           73  San Diego      32.710177     -117.142665  \n",
       "\n",
       "[2869 rows x 20 columns]"
      ]
     },
     "execution_count": 10,
     "metadata": {},
     "output_type": "execute_result"
    }
   ],
   "source": [
    "epa2020_df"
   ]
  },
  {
   "cell_type": "code",
   "execution_count": 11,
   "metadata": {},
   "outputs": [
    {
     "data": {
      "text/plain": [
       "Date                                  0\n",
       "Source                                0\n",
       "Site ID                               0\n",
       "POC                                   0\n",
       "Daily Max 1-hour NO2 Concentration    0\n",
       "UNITS                                 0\n",
       "DAILY_AQI_VALUE                       0\n",
       "Site Name                             0\n",
       "DAILY_OBS_COUNT                       0\n",
       "PERCENT_COMPLETE                      0\n",
       "AQS_PARAMETER_CODE                    0\n",
       "AQS_PARAMETER_DESC                    0\n",
       "CBSA_CODE                             0\n",
       "CBSA_NAME                             0\n",
       "STATE_CODE                            0\n",
       "STATE                                 0\n",
       "COUNTY_CODE                           0\n",
       "COUNTY                                0\n",
       "SITE_LATITUDE                         0\n",
       "SITE_LONGITUDE                        0\n",
       "dtype: int64"
      ]
     },
     "execution_count": 11,
     "metadata": {},
     "output_type": "execute_result"
    }
   ],
   "source": [
    "epa2020_df.isnull().sum()"
   ]
  },
  {
   "cell_type": "markdown",
   "metadata": {},
   "source": [
    "Since there are no null values present, we will not be excluding any rows. "
   ]
  },
  {
   "cell_type": "code",
   "execution_count": 12,
   "metadata": {},
   "outputs": [
    {
     "data": {
      "text/plain": [
       "Date                                   object\n",
       "Source                                 object\n",
       "Site ID                                 int64\n",
       "POC                                     int64\n",
       "Daily Max 1-hour NO2 Concentration      int64\n",
       "UNITS                                  object\n",
       "DAILY_AQI_VALUE                         int64\n",
       "Site Name                              object\n",
       "DAILY_OBS_COUNT                         int64\n",
       "PERCENT_COMPLETE                      float64\n",
       "AQS_PARAMETER_CODE                      int64\n",
       "AQS_PARAMETER_DESC                     object\n",
       "CBSA_CODE                               int64\n",
       "CBSA_NAME                              object\n",
       "STATE_CODE                              int64\n",
       "STATE                                  object\n",
       "COUNTY_CODE                             int64\n",
       "COUNTY                                 object\n",
       "SITE_LATITUDE                         float64\n",
       "SITE_LONGITUDE                        float64\n",
       "dtype: object"
      ]
     },
     "execution_count": 12,
     "metadata": {},
     "output_type": "execute_result"
    }
   ],
   "source": [
    "epa2020_df.dtypes"
   ]
  },
  {
   "cell_type": "markdown",
   "metadata": {},
   "source": [
    "Since the date column does not store datetime objects, we will need to convert the Date to datetime objects. \n",
    "\n",
    "A majority of the columns will not be used for our analysis:\n",
    "1) After looking at each column for their unique values, we noticed that we can safely drop the 'COUNTY', 'COUNTY_CODE','STATE','STATE_CODE','CBSA_NAME','CBSA_CODE','AQS_PARAMETER_DESC','AQS_PARAMETER_CODE','UNITS',and 'Source' columns as there is only a single value representing the entire column. To elaborate, the values representing the columns are 'San Diego' for the county and county code, 'San Diego-Carlsbad, CA' for the CBSA, 'NO<sub>2</sub>' for the air quality parameter, ppb or parts per billion for the unit, 'AQS' for the source. \n",
    "\n",
    "2) Furthermore the values 'SITE_LATITUDE','SITE_LONGITUDE','Site ID','POC','PERCENT_COMPLETE', and'DAILY_OBS_COUNT' are not going to be used for the analysis that we will be peforming. \n",
    "\n",
    "In short, the columns that we're interested in are the date, the NO<sub>2</sub> levels, the AQI(Air Quality Index), and the particular sites. \n",
    "An additional task we have is to re-name multi-word labels to be concise. \n"
   ]
  },
  {
   "cell_type": "code",
   "execution_count": 13,
   "metadata": {},
   "outputs": [],
   "source": [
    "same_value_list = ['COUNTY', 'COUNTY_CODE','STATE','STATE_CODE','CBSA_NAME','CBSA_CODE','AQS_PARAMETER_DESC','AQS_PARAMETER_CODE','UNITS','Source']\n",
    "not_used_list = ['SITE_LATITUDE','SITE_LONGITUDE','Site ID','POC','PERCENT_COMPLETE','DAILY_OBS_COUNT']\n",
    "updated_labels = {'Daily Max 1-hour NO2 Concentration': 'NO2', 'DAILY_AQI_VALUE': 'AQI', 'Site Name': 'Site'}"
   ]
  },
  {
   "cell_type": "code",
   "execution_count": 14,
   "metadata": {},
   "outputs": [],
   "source": [
    "# Drop columns that contain only a single value\n",
    "epa2020_df = epa2020_df.drop(same_value_list, axis = 1)\n",
    "\n",
    "# Drop columns that are not going to be used\n",
    "epa2020_df = epa2020_df.drop(not_used_list, axis = 1)\n",
    "\n",
    "# Rename columns\n",
    "epa2020_df = epa2020_df.rename(columns=updated_labels)\n",
    "\n",
    "# Convert date to datetime object\n",
    "epa2020_df['Date'] = pd.to_datetime(epa2020_df['Date'])"
   ]
  },
  {
   "cell_type": "markdown",
   "metadata": {},
   "source": [
    "At this point the EPA 2020 Air Quality dataset is in a state we can use for our analysis. All of the other EPA datasets for different years follow an identical format, we will now proceed to repeat the above steps to clean the rest of the data. "
   ]
  },
  {
   "cell_type": "code",
   "execution_count": 15,
   "metadata": {},
   "outputs": [
    {
     "data": {
      "text/html": [
       "<div>\n",
       "<style scoped>\n",
       "    .dataframe tbody tr th:only-of-type {\n",
       "        vertical-align: middle;\n",
       "    }\n",
       "\n",
       "    .dataframe tbody tr th {\n",
       "        vertical-align: top;\n",
       "    }\n",
       "\n",
       "    .dataframe thead th {\n",
       "        text-align: right;\n",
       "    }\n",
       "</style>\n",
       "<table border=\"1\" class=\"dataframe\">\n",
       "  <thead>\n",
       "    <tr style=\"text-align: right;\">\n",
       "      <th></th>\n",
       "      <th>Date</th>\n",
       "      <th>NO2</th>\n",
       "      <th>AQI</th>\n",
       "      <th>Site</th>\n",
       "    </tr>\n",
       "  </thead>\n",
       "  <tbody>\n",
       "    <tr>\n",
       "      <th>0</th>\n",
       "      <td>2020-01-01</td>\n",
       "      <td>18</td>\n",
       "      <td>17</td>\n",
       "      <td>Chula Vista</td>\n",
       "    </tr>\n",
       "    <tr>\n",
       "      <th>1</th>\n",
       "      <td>2020-01-02</td>\n",
       "      <td>35</td>\n",
       "      <td>33</td>\n",
       "      <td>Chula Vista</td>\n",
       "    </tr>\n",
       "    <tr>\n",
       "      <th>2</th>\n",
       "      <td>2020-01-03</td>\n",
       "      <td>36</td>\n",
       "      <td>34</td>\n",
       "      <td>Chula Vista</td>\n",
       "    </tr>\n",
       "    <tr>\n",
       "      <th>3</th>\n",
       "      <td>2020-01-04</td>\n",
       "      <td>31</td>\n",
       "      <td>29</td>\n",
       "      <td>Chula Vista</td>\n",
       "    </tr>\n",
       "    <tr>\n",
       "      <th>4</th>\n",
       "      <td>2020-01-05</td>\n",
       "      <td>36</td>\n",
       "      <td>34</td>\n",
       "      <td>Chula Vista</td>\n",
       "    </tr>\n",
       "    <tr>\n",
       "      <th>...</th>\n",
       "      <td>...</td>\n",
       "      <td>...</td>\n",
       "      <td>...</td>\n",
       "      <td>...</td>\n",
       "    </tr>\n",
       "    <tr>\n",
       "      <th>2864</th>\n",
       "      <td>2020-12-27</td>\n",
       "      <td>11</td>\n",
       "      <td>10</td>\n",
       "      <td>San Diego - Sherman Elementary School</td>\n",
       "    </tr>\n",
       "    <tr>\n",
       "      <th>2865</th>\n",
       "      <td>2020-12-28</td>\n",
       "      <td>12</td>\n",
       "      <td>11</td>\n",
       "      <td>San Diego - Sherman Elementary School</td>\n",
       "    </tr>\n",
       "    <tr>\n",
       "      <th>2866</th>\n",
       "      <td>2020-12-29</td>\n",
       "      <td>29</td>\n",
       "      <td>27</td>\n",
       "      <td>San Diego - Sherman Elementary School</td>\n",
       "    </tr>\n",
       "    <tr>\n",
       "      <th>2867</th>\n",
       "      <td>2020-12-30</td>\n",
       "      <td>31</td>\n",
       "      <td>29</td>\n",
       "      <td>San Diego - Sherman Elementary School</td>\n",
       "    </tr>\n",
       "    <tr>\n",
       "      <th>2868</th>\n",
       "      <td>2020-12-31</td>\n",
       "      <td>33</td>\n",
       "      <td>31</td>\n",
       "      <td>San Diego - Sherman Elementary School</td>\n",
       "    </tr>\n",
       "  </tbody>\n",
       "</table>\n",
       "<p>2869 rows × 4 columns</p>\n",
       "</div>"
      ],
      "text/plain": [
       "           Date  NO2  AQI                                   Site\n",
       "0    2020-01-01   18   17                            Chula Vista\n",
       "1    2020-01-02   35   33                            Chula Vista\n",
       "2    2020-01-03   36   34                            Chula Vista\n",
       "3    2020-01-04   31   29                            Chula Vista\n",
       "4    2020-01-05   36   34                            Chula Vista\n",
       "...         ...  ...  ...                                    ...\n",
       "2864 2020-12-27   11   10  San Diego - Sherman Elementary School\n",
       "2865 2020-12-28   12   11  San Diego - Sherman Elementary School\n",
       "2866 2020-12-29   29   27  San Diego - Sherman Elementary School\n",
       "2867 2020-12-30   31   29  San Diego - Sherman Elementary School\n",
       "2868 2020-12-31   33   31  San Diego - Sherman Elementary School\n",
       "\n",
       "[2869 rows x 4 columns]"
      ]
     },
     "execution_count": 15,
     "metadata": {},
     "output_type": "execute_result"
    }
   ],
   "source": [
    "epa2020_df"
   ]
  },
  {
   "cell_type": "code",
   "execution_count": 16,
   "metadata": {},
   "outputs": [
    {
     "data": {
      "text/html": [
       "<div>\n",
       "<style scoped>\n",
       "    .dataframe tbody tr th:only-of-type {\n",
       "        vertical-align: middle;\n",
       "    }\n",
       "\n",
       "    .dataframe tbody tr th {\n",
       "        vertical-align: top;\n",
       "    }\n",
       "\n",
       "    .dataframe thead th {\n",
       "        text-align: right;\n",
       "    }\n",
       "</style>\n",
       "<table border=\"1\" class=\"dataframe\">\n",
       "  <thead>\n",
       "    <tr style=\"text-align: right;\">\n",
       "      <th></th>\n",
       "      <th>Date</th>\n",
       "      <th>NO2</th>\n",
       "      <th>AQI</th>\n",
       "      <th>Site</th>\n",
       "    </tr>\n",
       "  </thead>\n",
       "  <tbody>\n",
       "    <tr>\n",
       "      <th>0</th>\n",
       "      <td>2016-01-01</td>\n",
       "      <td>30</td>\n",
       "      <td>28</td>\n",
       "      <td>Chula Vista</td>\n",
       "    </tr>\n",
       "    <tr>\n",
       "      <th>1</th>\n",
       "      <td>2016-01-02</td>\n",
       "      <td>40</td>\n",
       "      <td>38</td>\n",
       "      <td>Chula Vista</td>\n",
       "    </tr>\n",
       "    <tr>\n",
       "      <th>2</th>\n",
       "      <td>2016-01-03</td>\n",
       "      <td>36</td>\n",
       "      <td>34</td>\n",
       "      <td>Chula Vista</td>\n",
       "    </tr>\n",
       "    <tr>\n",
       "      <th>3</th>\n",
       "      <td>2016-01-04</td>\n",
       "      <td>17</td>\n",
       "      <td>16</td>\n",
       "      <td>Chula Vista</td>\n",
       "    </tr>\n",
       "    <tr>\n",
       "      <th>4</th>\n",
       "      <td>2016-01-05</td>\n",
       "      <td>21</td>\n",
       "      <td>20</td>\n",
       "      <td>Chula Vista</td>\n",
       "    </tr>\n",
       "    <tr>\n",
       "      <th>...</th>\n",
       "      <td>...</td>\n",
       "      <td>...</td>\n",
       "      <td>...</td>\n",
       "      <td>...</td>\n",
       "    </tr>\n",
       "    <tr>\n",
       "      <th>2707</th>\n",
       "      <td>2016-12-25</td>\n",
       "      <td>22</td>\n",
       "      <td>21</td>\n",
       "      <td>El Cajon - Lexington Elementary School</td>\n",
       "    </tr>\n",
       "    <tr>\n",
       "      <th>2708</th>\n",
       "      <td>2016-12-26</td>\n",
       "      <td>26</td>\n",
       "      <td>25</td>\n",
       "      <td>El Cajon - Lexington Elementary School</td>\n",
       "    </tr>\n",
       "    <tr>\n",
       "      <th>2709</th>\n",
       "      <td>2016-12-29</td>\n",
       "      <td>32</td>\n",
       "      <td>30</td>\n",
       "      <td>El Cajon - Lexington Elementary School</td>\n",
       "    </tr>\n",
       "    <tr>\n",
       "      <th>2710</th>\n",
       "      <td>2016-12-30</td>\n",
       "      <td>24</td>\n",
       "      <td>23</td>\n",
       "      <td>El Cajon - Lexington Elementary School</td>\n",
       "    </tr>\n",
       "    <tr>\n",
       "      <th>2711</th>\n",
       "      <td>2016-12-31</td>\n",
       "      <td>7</td>\n",
       "      <td>7</td>\n",
       "      <td>El Cajon - Lexington Elementary School</td>\n",
       "    </tr>\n",
       "  </tbody>\n",
       "</table>\n",
       "<p>2712 rows × 4 columns</p>\n",
       "</div>"
      ],
      "text/plain": [
       "           Date  NO2  AQI                                    Site\n",
       "0    2016-01-01   30   28                             Chula Vista\n",
       "1    2016-01-02   40   38                             Chula Vista\n",
       "2    2016-01-03   36   34                             Chula Vista\n",
       "3    2016-01-04   17   16                             Chula Vista\n",
       "4    2016-01-05   21   20                             Chula Vista\n",
       "...         ...  ...  ...                                     ...\n",
       "2707 2016-12-25   22   21  El Cajon - Lexington Elementary School\n",
       "2708 2016-12-26   26   25  El Cajon - Lexington Elementary School\n",
       "2709 2016-12-29   32   30  El Cajon - Lexington Elementary School\n",
       "2710 2016-12-30   24   23  El Cajon - Lexington Elementary School\n",
       "2711 2016-12-31    7    7  El Cajon - Lexington Elementary School\n",
       "\n",
       "[2712 rows x 4 columns]"
      ]
     },
     "execution_count": 16,
     "metadata": {},
     "output_type": "execute_result"
    }
   ],
   "source": [
    "# Clean Data for 2016\n",
    "# Drop columns that contain only a single value\n",
    "epa2016_df = epa2016_df.drop(same_value_list, axis = 1)\n",
    "\n",
    "# Drop columns that are not going to be used\n",
    "epa2016_df = epa2016_df.drop(not_used_list, axis = 1)\n",
    "\n",
    "# Rename columns\n",
    "epa2016_df = epa2016_df.rename(columns=updated_labels)\n",
    "\n",
    "# Convert date to datetime object\n",
    "epa2016_df['Date'] = pd.to_datetime(epa2016_df['Date'])\n",
    "\n",
    "epa2016_df"
   ]
  },
  {
   "cell_type": "code",
   "execution_count": 17,
   "metadata": {},
   "outputs": [
    {
     "data": {
      "text/html": [
       "<div>\n",
       "<style scoped>\n",
       "    .dataframe tbody tr th:only-of-type {\n",
       "        vertical-align: middle;\n",
       "    }\n",
       "\n",
       "    .dataframe tbody tr th {\n",
       "        vertical-align: top;\n",
       "    }\n",
       "\n",
       "    .dataframe thead th {\n",
       "        text-align: right;\n",
       "    }\n",
       "</style>\n",
       "<table border=\"1\" class=\"dataframe\">\n",
       "  <thead>\n",
       "    <tr style=\"text-align: right;\">\n",
       "      <th></th>\n",
       "      <th>Date</th>\n",
       "      <th>NO2</th>\n",
       "      <th>AQI</th>\n",
       "      <th>Site</th>\n",
       "    </tr>\n",
       "  </thead>\n",
       "  <tbody>\n",
       "    <tr>\n",
       "      <th>0</th>\n",
       "      <td>2017-01-01</td>\n",
       "      <td>20</td>\n",
       "      <td>19</td>\n",
       "      <td>Chula Vista</td>\n",
       "    </tr>\n",
       "    <tr>\n",
       "      <th>1</th>\n",
       "      <td>2017-01-02</td>\n",
       "      <td>22</td>\n",
       "      <td>21</td>\n",
       "      <td>Chula Vista</td>\n",
       "    </tr>\n",
       "    <tr>\n",
       "      <th>2</th>\n",
       "      <td>2017-01-03</td>\n",
       "      <td>26</td>\n",
       "      <td>25</td>\n",
       "      <td>Chula Vista</td>\n",
       "    </tr>\n",
       "    <tr>\n",
       "      <th>3</th>\n",
       "      <td>2017-01-04</td>\n",
       "      <td>25</td>\n",
       "      <td>24</td>\n",
       "      <td>Chula Vista</td>\n",
       "    </tr>\n",
       "    <tr>\n",
       "      <th>4</th>\n",
       "      <td>2017-01-05</td>\n",
       "      <td>27</td>\n",
       "      <td>25</td>\n",
       "      <td>Chula Vista</td>\n",
       "    </tr>\n",
       "    <tr>\n",
       "      <th>...</th>\n",
       "      <td>...</td>\n",
       "      <td>...</td>\n",
       "      <td>...</td>\n",
       "      <td>...</td>\n",
       "    </tr>\n",
       "    <tr>\n",
       "      <th>2386</th>\n",
       "      <td>2017-12-27</td>\n",
       "      <td>35</td>\n",
       "      <td>33</td>\n",
       "      <td>El Cajon - Lexington Elementary School</td>\n",
       "    </tr>\n",
       "    <tr>\n",
       "      <th>2387</th>\n",
       "      <td>2017-12-28</td>\n",
       "      <td>41</td>\n",
       "      <td>39</td>\n",
       "      <td>El Cajon - Lexington Elementary School</td>\n",
       "    </tr>\n",
       "    <tr>\n",
       "      <th>2388</th>\n",
       "      <td>2017-12-29</td>\n",
       "      <td>43</td>\n",
       "      <td>41</td>\n",
       "      <td>El Cajon - Lexington Elementary School</td>\n",
       "    </tr>\n",
       "    <tr>\n",
       "      <th>2389</th>\n",
       "      <td>2017-12-30</td>\n",
       "      <td>39</td>\n",
       "      <td>37</td>\n",
       "      <td>El Cajon - Lexington Elementary School</td>\n",
       "    </tr>\n",
       "    <tr>\n",
       "      <th>2390</th>\n",
       "      <td>2017-12-31</td>\n",
       "      <td>32</td>\n",
       "      <td>30</td>\n",
       "      <td>El Cajon - Lexington Elementary School</td>\n",
       "    </tr>\n",
       "  </tbody>\n",
       "</table>\n",
       "<p>2391 rows × 4 columns</p>\n",
       "</div>"
      ],
      "text/plain": [
       "           Date  NO2  AQI                                    Site\n",
       "0    2017-01-01   20   19                             Chula Vista\n",
       "1    2017-01-02   22   21                             Chula Vista\n",
       "2    2017-01-03   26   25                             Chula Vista\n",
       "3    2017-01-04   25   24                             Chula Vista\n",
       "4    2017-01-05   27   25                             Chula Vista\n",
       "...         ...  ...  ...                                     ...\n",
       "2386 2017-12-27   35   33  El Cajon - Lexington Elementary School\n",
       "2387 2017-12-28   41   39  El Cajon - Lexington Elementary School\n",
       "2388 2017-12-29   43   41  El Cajon - Lexington Elementary School\n",
       "2389 2017-12-30   39   37  El Cajon - Lexington Elementary School\n",
       "2390 2017-12-31   32   30  El Cajon - Lexington Elementary School\n",
       "\n",
       "[2391 rows x 4 columns]"
      ]
     },
     "execution_count": 17,
     "metadata": {},
     "output_type": "execute_result"
    }
   ],
   "source": [
    "#Clean Data for 2017\n",
    "# Drop columns that contain only a single value\n",
    "epa2017_df = epa2017_df.drop(same_value_list, axis = 1)\n",
    "\n",
    "# Drop columns that are not going to be used\n",
    "epa2017_df = epa2017_df.drop(not_used_list, axis = 1)\n",
    "\n",
    "# Rename columns\n",
    "epa2017_df = epa2017_df.rename(columns=updated_labels)\n",
    "\n",
    "# Convert date to datetime object\n",
    "epa2017_df['Date'] = pd.to_datetime(epa2017_df['Date'])\n",
    "\n",
    "epa2017_df "
   ]
  },
  {
   "cell_type": "code",
   "execution_count": 18,
   "metadata": {},
   "outputs": [
    {
     "data": {
      "text/html": [
       "<div>\n",
       "<style scoped>\n",
       "    .dataframe tbody tr th:only-of-type {\n",
       "        vertical-align: middle;\n",
       "    }\n",
       "\n",
       "    .dataframe tbody tr th {\n",
       "        vertical-align: top;\n",
       "    }\n",
       "\n",
       "    .dataframe thead th {\n",
       "        text-align: right;\n",
       "    }\n",
       "</style>\n",
       "<table border=\"1\" class=\"dataframe\">\n",
       "  <thead>\n",
       "    <tr style=\"text-align: right;\">\n",
       "      <th></th>\n",
       "      <th>Date</th>\n",
       "      <th>NO2</th>\n",
       "      <th>AQI</th>\n",
       "      <th>Site</th>\n",
       "    </tr>\n",
       "  </thead>\n",
       "  <tbody>\n",
       "    <tr>\n",
       "      <th>0</th>\n",
       "      <td>2018-01-01</td>\n",
       "      <td>27</td>\n",
       "      <td>25</td>\n",
       "      <td>Chula Vista</td>\n",
       "    </tr>\n",
       "    <tr>\n",
       "      <th>1</th>\n",
       "      <td>2018-01-02</td>\n",
       "      <td>40</td>\n",
       "      <td>38</td>\n",
       "      <td>Chula Vista</td>\n",
       "    </tr>\n",
       "    <tr>\n",
       "      <th>2</th>\n",
       "      <td>2018-01-03</td>\n",
       "      <td>32</td>\n",
       "      <td>30</td>\n",
       "      <td>Chula Vista</td>\n",
       "    </tr>\n",
       "    <tr>\n",
       "      <th>3</th>\n",
       "      <td>2018-01-04</td>\n",
       "      <td>52</td>\n",
       "      <td>49</td>\n",
       "      <td>Chula Vista</td>\n",
       "    </tr>\n",
       "    <tr>\n",
       "      <th>4</th>\n",
       "      <td>2018-01-05</td>\n",
       "      <td>39</td>\n",
       "      <td>37</td>\n",
       "      <td>Chula Vista</td>\n",
       "    </tr>\n",
       "    <tr>\n",
       "      <th>...</th>\n",
       "      <td>...</td>\n",
       "      <td>...</td>\n",
       "      <td>...</td>\n",
       "      <td>...</td>\n",
       "    </tr>\n",
       "    <tr>\n",
       "      <th>2431</th>\n",
       "      <td>2018-12-27</td>\n",
       "      <td>21</td>\n",
       "      <td>20</td>\n",
       "      <td>El Cajon - Lexington Elementary School</td>\n",
       "    </tr>\n",
       "    <tr>\n",
       "      <th>2432</th>\n",
       "      <td>2018-12-28</td>\n",
       "      <td>25</td>\n",
       "      <td>24</td>\n",
       "      <td>El Cajon - Lexington Elementary School</td>\n",
       "    </tr>\n",
       "    <tr>\n",
       "      <th>2433</th>\n",
       "      <td>2018-12-29</td>\n",
       "      <td>27</td>\n",
       "      <td>25</td>\n",
       "      <td>El Cajon - Lexington Elementary School</td>\n",
       "    </tr>\n",
       "    <tr>\n",
       "      <th>2434</th>\n",
       "      <td>2018-12-30</td>\n",
       "      <td>20</td>\n",
       "      <td>19</td>\n",
       "      <td>El Cajon - Lexington Elementary School</td>\n",
       "    </tr>\n",
       "    <tr>\n",
       "      <th>2435</th>\n",
       "      <td>2018-12-31</td>\n",
       "      <td>14</td>\n",
       "      <td>13</td>\n",
       "      <td>El Cajon - Lexington Elementary School</td>\n",
       "    </tr>\n",
       "  </tbody>\n",
       "</table>\n",
       "<p>2436 rows × 4 columns</p>\n",
       "</div>"
      ],
      "text/plain": [
       "           Date  NO2  AQI                                    Site\n",
       "0    2018-01-01   27   25                             Chula Vista\n",
       "1    2018-01-02   40   38                             Chula Vista\n",
       "2    2018-01-03   32   30                             Chula Vista\n",
       "3    2018-01-04   52   49                             Chula Vista\n",
       "4    2018-01-05   39   37                             Chula Vista\n",
       "...         ...  ...  ...                                     ...\n",
       "2431 2018-12-27   21   20  El Cajon - Lexington Elementary School\n",
       "2432 2018-12-28   25   24  El Cajon - Lexington Elementary School\n",
       "2433 2018-12-29   27   25  El Cajon - Lexington Elementary School\n",
       "2434 2018-12-30   20   19  El Cajon - Lexington Elementary School\n",
       "2435 2018-12-31   14   13  El Cajon - Lexington Elementary School\n",
       "\n",
       "[2436 rows x 4 columns]"
      ]
     },
     "execution_count": 18,
     "metadata": {},
     "output_type": "execute_result"
    }
   ],
   "source": [
    "#Clean Data for 2018\n",
    "# Drop columns that contain only a single value\n",
    "epa2018_df = epa2018_df.drop(same_value_list, axis = 1)\n",
    "\n",
    "# Drop columns that are not going to be used\n",
    "epa2018_df = epa2018_df.drop(not_used_list, axis = 1)\n",
    "\n",
    "# Rename columns\n",
    "epa2018_df = epa2018_df.rename(columns=updated_labels)\n",
    "\n",
    "# Convert date to datetime object\n",
    "epa2018_df['Date'] = pd.to_datetime(epa2018_df['Date'])\n",
    "\n",
    "epa2018_df "
   ]
  },
  {
   "cell_type": "code",
   "execution_count": 19,
   "metadata": {},
   "outputs": [
    {
     "data": {
      "text/html": [
       "<div>\n",
       "<style scoped>\n",
       "    .dataframe tbody tr th:only-of-type {\n",
       "        vertical-align: middle;\n",
       "    }\n",
       "\n",
       "    .dataframe tbody tr th {\n",
       "        vertical-align: top;\n",
       "    }\n",
       "\n",
       "    .dataframe thead th {\n",
       "        text-align: right;\n",
       "    }\n",
       "</style>\n",
       "<table border=\"1\" class=\"dataframe\">\n",
       "  <thead>\n",
       "    <tr style=\"text-align: right;\">\n",
       "      <th></th>\n",
       "      <th>Date</th>\n",
       "      <th>NO2</th>\n",
       "      <th>AQI</th>\n",
       "      <th>Site</th>\n",
       "    </tr>\n",
       "  </thead>\n",
       "  <tbody>\n",
       "    <tr>\n",
       "      <th>0</th>\n",
       "      <td>2019-01-01</td>\n",
       "      <td>17</td>\n",
       "      <td>16</td>\n",
       "      <td>Chula Vista</td>\n",
       "    </tr>\n",
       "    <tr>\n",
       "      <th>1</th>\n",
       "      <td>2019-01-02</td>\n",
       "      <td>35</td>\n",
       "      <td>33</td>\n",
       "      <td>Chula Vista</td>\n",
       "    </tr>\n",
       "    <tr>\n",
       "      <th>2</th>\n",
       "      <td>2019-01-03</td>\n",
       "      <td>39</td>\n",
       "      <td>37</td>\n",
       "      <td>Chula Vista</td>\n",
       "    </tr>\n",
       "    <tr>\n",
       "      <th>3</th>\n",
       "      <td>2019-01-04</td>\n",
       "      <td>36</td>\n",
       "      <td>34</td>\n",
       "      <td>Chula Vista</td>\n",
       "    </tr>\n",
       "    <tr>\n",
       "      <th>4</th>\n",
       "      <td>2019-01-05</td>\n",
       "      <td>31</td>\n",
       "      <td>29</td>\n",
       "      <td>Chula Vista</td>\n",
       "    </tr>\n",
       "    <tr>\n",
       "      <th>...</th>\n",
       "      <td>...</td>\n",
       "      <td>...</td>\n",
       "      <td>...</td>\n",
       "      <td>...</td>\n",
       "    </tr>\n",
       "    <tr>\n",
       "      <th>2556</th>\n",
       "      <td>2019-12-27</td>\n",
       "      <td>33</td>\n",
       "      <td>31</td>\n",
       "      <td>San Diego - Sherman Elementary School</td>\n",
       "    </tr>\n",
       "    <tr>\n",
       "      <th>2557</th>\n",
       "      <td>2019-12-28</td>\n",
       "      <td>31</td>\n",
       "      <td>29</td>\n",
       "      <td>San Diego - Sherman Elementary School</td>\n",
       "    </tr>\n",
       "    <tr>\n",
       "      <th>2558</th>\n",
       "      <td>2019-12-29</td>\n",
       "      <td>33</td>\n",
       "      <td>31</td>\n",
       "      <td>San Diego - Sherman Elementary School</td>\n",
       "    </tr>\n",
       "    <tr>\n",
       "      <th>2559</th>\n",
       "      <td>2019-12-30</td>\n",
       "      <td>34</td>\n",
       "      <td>32</td>\n",
       "      <td>San Diego - Sherman Elementary School</td>\n",
       "    </tr>\n",
       "    <tr>\n",
       "      <th>2560</th>\n",
       "      <td>2019-12-31</td>\n",
       "      <td>37</td>\n",
       "      <td>35</td>\n",
       "      <td>San Diego - Sherman Elementary School</td>\n",
       "    </tr>\n",
       "  </tbody>\n",
       "</table>\n",
       "<p>2561 rows × 4 columns</p>\n",
       "</div>"
      ],
      "text/plain": [
       "           Date  NO2  AQI                                   Site\n",
       "0    2019-01-01   17   16                            Chula Vista\n",
       "1    2019-01-02   35   33                            Chula Vista\n",
       "2    2019-01-03   39   37                            Chula Vista\n",
       "3    2019-01-04   36   34                            Chula Vista\n",
       "4    2019-01-05   31   29                            Chula Vista\n",
       "...         ...  ...  ...                                    ...\n",
       "2556 2019-12-27   33   31  San Diego - Sherman Elementary School\n",
       "2557 2019-12-28   31   29  San Diego - Sherman Elementary School\n",
       "2558 2019-12-29   33   31  San Diego - Sherman Elementary School\n",
       "2559 2019-12-30   34   32  San Diego - Sherman Elementary School\n",
       "2560 2019-12-31   37   35  San Diego - Sherman Elementary School\n",
       "\n",
       "[2561 rows x 4 columns]"
      ]
     },
     "execution_count": 19,
     "metadata": {},
     "output_type": "execute_result"
    }
   ],
   "source": [
    "#Clean Data for 2019\n",
    "# Drop columns that contain only a single value\n",
    "epa2019_df = epa2019_df.drop(same_value_list, axis = 1)\n",
    "\n",
    "# Drop columns that are not going to be used\n",
    "epa2019_df = epa2019_df.drop(not_used_list, axis = 1)\n",
    "\n",
    "# Rename columns\n",
    "epa2019_df = epa2019_df.rename(columns=updated_labels)\n",
    "\n",
    "# Convert date to datetime object\n",
    "epa2019_df['Date'] = pd.to_datetime(epa2019_df['Date'])\n",
    "\n",
    "epa2019_df "
   ]
  },
  {
   "cell_type": "code",
   "execution_count": 20,
   "metadata": {},
   "outputs": [
    {
     "data": {
      "text/html": [
       "<div>\n",
       "<style scoped>\n",
       "    .dataframe tbody tr th:only-of-type {\n",
       "        vertical-align: middle;\n",
       "    }\n",
       "\n",
       "    .dataframe tbody tr th {\n",
       "        vertical-align: top;\n",
       "    }\n",
       "\n",
       "    .dataframe thead th {\n",
       "        text-align: right;\n",
       "    }\n",
       "</style>\n",
       "<table border=\"1\" class=\"dataframe\">\n",
       "  <thead>\n",
       "    <tr style=\"text-align: right;\">\n",
       "      <th></th>\n",
       "      <th>Date</th>\n",
       "      <th>NO2</th>\n",
       "      <th>AQI</th>\n",
       "      <th>Site</th>\n",
       "    </tr>\n",
       "  </thead>\n",
       "  <tbody>\n",
       "    <tr>\n",
       "      <th>0</th>\n",
       "      <td>2021-01-01</td>\n",
       "      <td>32</td>\n",
       "      <td>30</td>\n",
       "      <td>Chula Vista</td>\n",
       "    </tr>\n",
       "    <tr>\n",
       "      <th>1</th>\n",
       "      <td>2021-01-02</td>\n",
       "      <td>32</td>\n",
       "      <td>30</td>\n",
       "      <td>Chula Vista</td>\n",
       "    </tr>\n",
       "    <tr>\n",
       "      <th>2</th>\n",
       "      <td>2021-01-03</td>\n",
       "      <td>22</td>\n",
       "      <td>21</td>\n",
       "      <td>Chula Vista</td>\n",
       "    </tr>\n",
       "    <tr>\n",
       "      <th>3</th>\n",
       "      <td>2021-01-04</td>\n",
       "      <td>27</td>\n",
       "      <td>25</td>\n",
       "      <td>Chula Vista</td>\n",
       "    </tr>\n",
       "    <tr>\n",
       "      <th>4</th>\n",
       "      <td>2021-01-05</td>\n",
       "      <td>29</td>\n",
       "      <td>27</td>\n",
       "      <td>Chula Vista</td>\n",
       "    </tr>\n",
       "    <tr>\n",
       "      <th>...</th>\n",
       "      <td>...</td>\n",
       "      <td>...</td>\n",
       "      <td>...</td>\n",
       "      <td>...</td>\n",
       "    </tr>\n",
       "    <tr>\n",
       "      <th>2006</th>\n",
       "      <td>2021-08-27</td>\n",
       "      <td>12</td>\n",
       "      <td>11</td>\n",
       "      <td>San Diego - Sherman Elementary School</td>\n",
       "    </tr>\n",
       "    <tr>\n",
       "      <th>2007</th>\n",
       "      <td>2021-08-28</td>\n",
       "      <td>9</td>\n",
       "      <td>8</td>\n",
       "      <td>San Diego - Sherman Elementary School</td>\n",
       "    </tr>\n",
       "    <tr>\n",
       "      <th>2008</th>\n",
       "      <td>2021-08-29</td>\n",
       "      <td>10</td>\n",
       "      <td>9</td>\n",
       "      <td>San Diego - Sherman Elementary School</td>\n",
       "    </tr>\n",
       "    <tr>\n",
       "      <th>2009</th>\n",
       "      <td>2021-08-30</td>\n",
       "      <td>14</td>\n",
       "      <td>13</td>\n",
       "      <td>San Diego - Sherman Elementary School</td>\n",
       "    </tr>\n",
       "    <tr>\n",
       "      <th>2010</th>\n",
       "      <td>2021-08-31</td>\n",
       "      <td>4</td>\n",
       "      <td>4</td>\n",
       "      <td>San Diego - Sherman Elementary School</td>\n",
       "    </tr>\n",
       "  </tbody>\n",
       "</table>\n",
       "<p>2011 rows × 4 columns</p>\n",
       "</div>"
      ],
      "text/plain": [
       "           Date  NO2  AQI                                   Site\n",
       "0    2021-01-01   32   30                            Chula Vista\n",
       "1    2021-01-02   32   30                            Chula Vista\n",
       "2    2021-01-03   22   21                            Chula Vista\n",
       "3    2021-01-04   27   25                            Chula Vista\n",
       "4    2021-01-05   29   27                            Chula Vista\n",
       "...         ...  ...  ...                                    ...\n",
       "2006 2021-08-27   12   11  San Diego - Sherman Elementary School\n",
       "2007 2021-08-28    9    8  San Diego - Sherman Elementary School\n",
       "2008 2021-08-29   10    9  San Diego - Sherman Elementary School\n",
       "2009 2021-08-30   14   13  San Diego - Sherman Elementary School\n",
       "2010 2021-08-31    4    4  San Diego - Sherman Elementary School\n",
       "\n",
       "[2011 rows x 4 columns]"
      ]
     },
     "execution_count": 20,
     "metadata": {},
     "output_type": "execute_result"
    }
   ],
   "source": [
    "#Clean Data for 2021\n",
    "# Drop columns that contain only a single value\n",
    "epa2021_df = epa2021_df.drop(same_value_list, axis = 1)\n",
    "\n",
    "# Drop columns that are not going to be used\n",
    "epa2021_df = epa2021_df.drop(not_used_list, axis = 1)\n",
    "\n",
    "# Rename columns\n",
    "epa2021_df = epa2021_df.rename(columns=updated_labels)\n",
    "\n",
    "# Convert date to datetime object\n",
    "epa2021_df['Date'] = pd.to_datetime(epa2021_df['Date'])\n",
    "\n",
    "epa2021_df"
   ]
  },
  {
   "cell_type": "markdown",
   "metadata": {},
   "source": [
    "# Data Analysis & Results (EDA)"
   ]
  },
  {
   "cell_type": "markdown",
   "metadata": {},
   "source": [
    "Before we dive deeper into our  analysis regarding any potential relationship between COVID-19 cases and the levels of NO<sub>2</sub> levels within the atmosphere in San Diego county, we need to make sure that the air quality data that we have is suitable for our needs, which means that we will need to determine if we can aggregate the values read by different measuring stations in San Diego county into a single measurement for the whole county, which we can then analyze as a trend over time. In order to determine whether air quality measures can be aggregated from the site level data to the county level we will need to determine whether changes experienced in the data are similar across sites. If air quality measures appear to be similar, that is, there are no outliers among them and the measuring stations follow similar trends from year to year, then we can reasonably aggregate the site data into a single mean value for the entire county. "
   ]
  },
  {
   "cell_type": "markdown",
   "metadata": {},
   "source": [
    "---\n",
    "#### What measuring stations are we dealing with for our NO<sub>2</sub> and AQI data and how do they look for any given year?\n",
    "\n",
    "To summarize, the EPA collects air quality data in San Diego county  at 9 different locations/measuring stations throughout the county. \n",
    "\n",
    "In the  initial stages of our EDA, we  need to take a look at exactly what the measuring stations are and do some cursory analysis of what the data looks like from year to year. At this point we want to see whether there are any obvious outliers amongst the  measuring stations and also analyze the general distributions of NO2 levels and AQI from a year to year basis.\n",
    "\n",
    "The first step in doing this  is to create grouped bar plots that show MEAN NO<sub>2</sub> and AQI levels from each measuring station in the EPA datasets. "
   ]
  },
  {
   "cell_type": "code",
   "execution_count": 21,
   "metadata": {
    "scrolled": true
   },
   "outputs": [
    {
     "data": {
      "text/plain": [
       "<AxesSubplot:title={'center':'NO2 and AQI levels by Station (2021)'}, ylabel='Site'>"
      ]
     },
     "execution_count": 21,
     "metadata": {},
     "output_type": "execute_result"
    },
    {
     "data": {
      "image/png": "[encoded data removed]",
      "text/plain": [
       "<Figure size 432x288 with 1 Axes>"
      ]
     },
     "metadata": {
      "needs_background": "light"
     },
     "output_type": "display_data"
    },
    {
     "data": {
      "image/png": "[encoded data removed]",
      "text/plain": [
       "<Figure size 432x288 with 1 Axes>"
      ]
     },
     "metadata": {
      "needs_background": "light"
     },
     "output_type": "display_data"
    },
    {
     "data": {
      "image/png": "[encoded data removed]",
      "text/plain": [
       "<Figure size 432x288 with 1 Axes>"
      ]
     },
     "metadata": {
      "needs_background": "light"
     },
     "output_type": "display_data"
    },
    {
     "data": {
      "image/png": "[encoded data removed]",
      "text/plain": [
       "<Figure size 432x288 with 1 Axes>"
      ]
     },
     "metadata": {
      "needs_background": "light"
     },
     "output_type": "display_data"
    },
    {
     "data": {
      "image/png": "[encoded data removed]",
      "text/plain": [
       "<Figure size 432x288 with 1 Axes>"
      ]
     },
     "metadata": {
      "needs_background": "light"
     },
     "output_type": "display_data"
    },
    {
     "data": {
      "image/png": "[encoded data removed]",
      "text/plain": [
       "<Figure size 432x288 with 1 Axes>"
      ]
     },
     "metadata": {
      "needs_background": "light"
     },
     "output_type": "display_data"
    }
   ],
   "source": [
    "epa2016_df.groupby('Site').mean().sort_values(by = 'NO2', ascending = True).plot(kind = 'barh', y = ['NO2', 'AQI'], title = 'NO2 and AQI levels by Station (2016)')\n",
    "epa2017_df.groupby('Site').mean().sort_values(by = 'NO2', ascending = True).plot(kind = 'barh', y = ['NO2', 'AQI'], title = 'NO2 and AQI levels by Station (2017)')\n",
    "epa2018_df.groupby('Site').mean().sort_values(by = 'NO2', ascending = True).plot(kind = 'barh', y = ['NO2', 'AQI'], title = 'NO2 and AQI levels by Station (2018)')\n",
    "epa2019_df.groupby('Site').mean().sort_values(by = 'NO2', ascending = True).plot(kind = 'barh', y = ['NO2', 'AQI'], title = 'NO2 and AQI levels by Station (2019)')\n",
    "epa2020_df.groupby('Site').mean().sort_values(by = 'NO2', ascending = True).plot(kind = 'barh', y = ['NO2', 'AQI'], title = 'NO2 and AQI levels by Station (2020)')\n",
    "epa2021_df.groupby('Site').mean().sort_values(by = 'NO2', ascending = True).plot(kind = 'barh', y = ['NO2', 'AQI'], title = 'NO2 and AQI levels by Station (2021)')"
   ]
  },
  {
   "cell_type": "markdown",
   "metadata": {},
   "source": [
    "We can see that in total we are dealing with 9 different measuring stations. The data  for NO<sub>2</sub> levels and AQI are collected from the following locations: “Rancho Carmel Drive, Beardsley Street, Donovan, Chula Vista, Kearny Villa, El Cajon - Lexington Elementary School,  Camp Pendleton, and Alpine.\"\n",
    "\n",
    "From this cursory analysis. We can see that  the Rancho Carmel Drive measuring station consistently has the highest  measurements for NO2 levels in the atmosphere, while the Alpine  location consistently has the lowest, with the rest of the measurements being clustered more closely together. \n",
    "\n",
    "The  Alpine location having the lowest levels of air pollution (low levels of NO<sub>2</sub> levels and  AQI) is likely owing to its location,  which is rather secluded and is in the  mountains at a high elevation where there is very little traffic. In contrast, the Rancho Carmel Drive location has many stores, restaurants, and apartments nearby which likely means that there is a significant amount transportation and movement at this location.\n",
    "\n",
    "However, these differences in the readings show a consistent pattern from year to year and while the mean values do fluctuate, none of the measuring stations show significant fluctuation from year to year, which suggests that there are no obvious outlier years where the data for air quality is far off from other years. \n",
    "\n",
    "In our next phase of analysis, we we want to be seeing if there are any obvious differences between the air quality measurements of NO<sub>2</sub> levels and AQI measures after clustering data from pre-covid years and the years where the pandemic hit the hardest and lockdowns in the U.S. began in earnest. The pre-covid years will be 2016 through 2019, and the during COVID years will be 2020-2021. We then want to create boxplots to see the distribution of NO<sub>2</sub> levels and AQI measure are different on a cursory analysis."
   ]
  },
  {
   "cell_type": "code",
   "execution_count": 22,
   "metadata": {},
   "outputs": [],
   "source": [
    "#sns.boxplot(x = epa2020_df['NO2'], y=epa2020_df['Site'])\n",
    "pre_covid_epa_df = pd.concat([epa2016_df,epa2017_df,epa2018_df,epa2019_df])\n",
    "during_covid_epa_df = pd.concat([epa2020_df,epa2021_df])"
   ]
  },
  {
   "cell_type": "code",
   "execution_count": 23,
   "metadata": {},
   "outputs": [
    {
     "data": {
      "text/plain": [
       "[Text(0.5, 1.0, 'NO2 Levels by Measuring Station (2016-2019)')]"
      ]
     },
     "execution_count": 23,
     "metadata": {},
     "output_type": "execute_result"
    },
    {
     "data": {
      "image/png": "[encoded data removed]",
      "text/plain": [
       "<Figure size 432x288 with 1 Axes>"
      ]
     },
     "metadata": {
      "needs_background": "light"
     },
     "output_type": "display_data"
    }
   ],
   "source": [
    "sns.boxplot(x = pre_covid_epa_df['NO2'], y = pre_covid_epa_df['Site']).set(title='NO2 Levels by Measuring Station (2016-2019)')"
   ]
  },
  {
   "cell_type": "code",
   "execution_count": 24,
   "metadata": {},
   "outputs": [
    {
     "data": {
      "text/plain": [
       "[Text(0.5, 1.0, 'NO2 Levels by Measuring Station (2020-2021)')]"
      ]
     },
     "execution_count": 24,
     "metadata": {},
     "output_type": "execute_result"
    },
    {
     "data": {
      "image/png": "[encoded data removed]",
      "text/plain": [
       "<Figure size 432x288 with 1 Axes>"
      ]
     },
     "metadata": {
      "needs_background": "light"
     },
     "output_type": "display_data"
    }
   ],
   "source": [
    "sns.boxplot(x = during_covid_epa_df['NO2'], y = during_covid_epa_df['Site']).set(title='NO2 Levels by Measuring Station (2020-2021)')"
   ]
  },
  {
   "cell_type": "markdown",
   "metadata": {},
   "source": [
    "For both the pre-covid years and the during covid years, we can see from the boxplots that the distributions for each individual measuring station is relatively right skewed. For all of the measuring stations, the whisker to the right is significantly longer than the whisker to the left of the box. In addition the median values for each measuring station is closer to the first quartile than the third which again suggests right-skewness for all the measuring stations. \n",
    "\n",
    "Furthermore on a cursory, analysis it seems that NO2 levels did in fact drop by some margin when we consider pre-covid years and during covid years. Comparing the rough medians for each respective measuring station (that we have data for in both years) we get:\n",
    " \n",
    "| Station     | Median NO2 (2016 - 2019)  | Median NO2 (2020-2021) |\n",
    "| ----------- | ----------- | -----|\n",
    "| Chula Vista | 18     | 14 | \n",
    "| Alpine   | 9      | 9| \n",
    "| Camp Pendleton | 13  | 12 | \n",
    "| Donovan | 16       | 15|\n",
    "| Kearny Villa Rd.   | 17        | 14 | \n",
    "| San Diego -Rancho Carmel Drive | 23   | 21 |\n",
    "| San Diego - Sherman Elementary School   | 23        | 14 |\n",
    "\n",
    "From these comparisons of medians taken from the boxplot, it does seem that across the board we see lower levels of NO<sub>2</sub> for all measuring stations during the pandemic in 2020 and 2021 when compared to historical data. This does suggest that there may indeed be a relationship between COVID-19  cases and NO<sub>2</sub> levels in the atmosphere in San Diego county. However, in order to demonstrate statistical significance between the relationship of COVID-19 cases and the readings for N02 levels and AQI we will still  need to do a more sophisticated statistical test. \n",
    "\n",
    "Some other important things to note is that there do seem to be a small number of outliers for some of the measuring stations. In particular, the Camp Pendleton measuring station contains many points that are beyond the \"whiskers\" of the plot which represents data points that are beyond 1.5 times the interquartile range. We can see that this trend of Camp Pendleton having lots of outliers in NO<sub>2</sub> levels for both the years prior to the COVID-19 pandemic and during it as well. This again, can likely be explained by geographic features. Camp Pendleton is a military base, and occasional military trainings/weapons testing may lead to a tempoary spike in NO<sub>2</sub> levels. This however, goes beyond the scope of our analysis, the important part is that the outliers do not appear to significantly affect the means as the means or medians of the measuring stations for pre_covid years mostly center around the 18-20 ppb mark, while for the during covid years it appears to center closer to the 13-17ppb mark. \n",
    "\n",
    "Essentially, while there are outliers in individual measurements of NO<sub>2</sub>, this does NOT seem to significantly affect the distributions of NO<sub>2</sub> for each measuring station. The median values of each measuring station is clustered closely enough that we can say that there is no single outlier measuring station, and thus it is safe to aggregate the mean values of all measuring stations within a given year. This means that moving forward with our analysis, we do not need to consider the measuring stations separately, and instead we aggregate their data to get a single daily measurement for  NO<sub>2</sub> per day. "
   ]
  },
  {
   "cell_type": "code",
   "execution_count": 25,
   "metadata": {},
   "outputs": [
    {
     "data": {
      "text/plain": [
       "[Text(0.5, 1.0, 'AQI Levels by Measuring Station (2020-2021)')]"
      ]
     },
     "execution_count": 25,
     "metadata": {},
     "output_type": "execute_result"
    },
    {
     "data": {
      "image/png": "[encoded data removed]",
      "text/plain": [
       "<Figure size 432x288 with 1 Axes>"
      ]
     },
     "metadata": {
      "needs_background": "light"
     },
     "output_type": "display_data"
    }
   ],
   "source": [
    "sns.boxplot(x = during_covid_epa_df['AQI'], y = during_covid_epa_df['Site']).set(title='AQI Levels by Measuring Station (2020-2021)')"
   ]
  },
  {
   "cell_type": "code",
   "execution_count": 26,
   "metadata": {},
   "outputs": [
    {
     "data": {
      "text/plain": [
       "[Text(0.5, 1.0, 'AQI Levels by Measuring Station (2020-2021)')]"
      ]
     },
     "execution_count": 26,
     "metadata": {},
     "output_type": "execute_result"
    },
    {
     "data": {
      "image/png": "[encoded data removed]",
      "text/plain": [
       "<Figure size 432x288 with 1 Axes>"
      ]
     },
     "metadata": {
      "needs_background": "light"
     },
     "output_type": "display_data"
    }
   ],
   "source": [
    "sns.boxplot(x = during_covid_epa_df['AQI'], y = during_covid_epa_df['Site']).set(title='AQI Levels by Measuring Station (2020-2021)')"
   ]
  },
  {
   "cell_type": "markdown",
   "metadata": {},
   "source": [
    "Unsurprisingly, since  AQI measures are dependent of a multitude of factors including NO<sub>2</sub> levels in the atmopshere, we see identical trends to the analysis above for NO<sub>2</sub>.\n",
    "\n",
    "Essentially, we can conclude that the distribution of AQI measures across all measuring stations appear to be right skewed.  A couple of the stations have a small number of outliers but since we are receiving daily measurements these small number of outliers do not seem to overly impact where the measures of central tendency (mean and median) lie. In addition, we see similar trends and distributions for the years prior to the pandemic (2016 through 2019) and during the pandemic (2020 - 2021). This being the case, since there are no years that are drastically different from the other years and no measuring stations that are significantly  different from the others, we will aggregate the data for the measuring stations together. We are taking the mean readings of all measuring stations to get a daily AQI measure for San Diego county."
   ]
  },
  {
   "cell_type": "markdown",
   "metadata": {},
   "source": [
    "---\n",
    "### What do the trends of NO<sub>2</sub> and AQI levels over time look like?\n",
    "The NO<sub>2</sub> and AQI levels in the atmosphere over time are continuous variables  which should be represented using line plots. "
   ]
  },
  {
   "cell_type": "code",
   "execution_count": 27,
   "metadata": {},
   "outputs": [
    {
     "data": {
      "text/plain": [
       "<AxesSubplot:title={'center':'NO2 from 2016-2021 (by months)'}, xlabel='Date'>"
      ]
     },
     "execution_count": 27,
     "metadata": {},
     "output_type": "execute_result"
    },
    {
     "data": {
      "image/png": "[encoded data removed]",
      "text/plain": [
       "<Figure size 1440x432 with 1 Axes>"
      ]
     },
     "metadata": {
      "needs_background": "light"
     },
     "output_type": "display_data"
    }
   ],
   "source": [
    "#EPA2016-EPA2021 LINEPLOTS BY MONTHS\n",
    "epa_df = pd.concat([epa2016_df, epa2017_df, epa2018_df, epa2019_df, epa2020_df, epa2021_df])\n",
    "divided_month = epa_df.groupby(pd.Grouper(key='Date',axis=0, freq='M')).mean()\n",
    "divided_month.plot(kind='line', y=['NO2','AQI'],title='NO2 from 2016-2021 (by months)', figsize=(20,6))"
   ]
  },
  {
   "cell_type": "markdown",
   "metadata": {},
   "source": [
    "\n",
    "Taking a look at our aggregated mean of air quality measures, we can see that both AQI and NO2 appear to peak in October, December, and February. Additionally, air quality measures appear to be lowest in the months of June to August.This appears to be the trend across several years, regardless of the year, which suggests that there exists a cyclical pattern to air quality. In addition, AQI seems to be very strongly correlated with NO<sub>2</sub> levels, which is unsuprising since NO<sub>2</sub> levels is one of the parameters used to calculate AQI. Thus, moving forward with our analysis we have opted not to include AQI within our testing, since the results should be identical to the results for NO<sub>2</sub>.\n",
    "\n",
    "Upon further investigation, we find that weather plays a major role in determining air quality since air temperature affects the movement of air, and thus the movement of air pollution. Industrial emissions remain mostly constant throughout the year, but particulate matter and carbon monoxide pollutants from activities such as car idling or wood burning increases during the cold winter months<sup>[1]</sup>\n",
    "\n",
    "From both plots we can see that AQI levels and NO2 levels change similarly, given the nature of the measures, since AQI is an aggregated measure of various measures of particulate matter.\n",
    "\n",
    "In general, there appears to be a slight downward trend in air quality measures across years.\n",
    "\n",
    "Looking at weekly covid cases from 2020 to 2022, the number of cases has shown an increase over time, while having the most dramatic increases during the month of January.\n",
    "\n",
    "- [1] https://scied.ucar.edu/learning-zone/air-quality/how-weather-affects-air-quality"
   ]
  },
  {
   "cell_type": "markdown",
   "metadata": {},
   "source": [
    "---\n",
    "### What does the data for COVID-19 cases over time look like?\n",
    "Our COVID-19 dataset contains cumulative Data for San Diego county. First we get a picture of what this looks like by plotting it over time. "
   ]
  },
  {
   "cell_type": "code",
   "execution_count": 28,
   "metadata": {},
   "outputs": [
    {
     "data": {
      "text/plain": [
       "<AxesSubplot:title={'center':'COVID-19 Cumulative Cases Over Time'}, xlabel='Date'>"
      ]
     },
     "execution_count": 28,
     "metadata": {},
     "output_type": "execute_result"
    },
    {
     "data": {
      "image/png": "[encoded data removed]",
      "text/plain": [
       "<Figure size 1440x432 with 1 Axes>"
      ]
     },
     "metadata": {
      "needs_background": "light"
     },
     "output_type": "display_data"
    }
   ],
   "source": [
    "covid_df_divided_month = covid_df_sd.groupby(pd.Grouper(key='Date',axis=0, freq='M')).mean()\n",
    "covid_df_divided_month.plot(kind='line', title='COVID-19 Cumulative Cases Over Time',figsize=(20,6))"
   ]
  },
  {
   "cell_type": "markdown",
   "metadata": {},
   "source": [
    "As we can see,  cumulative cases over time are monotonic in nature (they are strictly non-decreasing over time). We also see that there is a spike in COVID-19 cases during the holiday season (December to January). There is also an especially steep spike before January 2022 which is likely due to the Omicron variant of the virus which was highly infective."
   ]
  },
  {
   "cell_type": "markdown",
   "metadata": {},
   "source": [
    "---\n",
    "#### Daily COVID-19 Cases Histogram\n",
    "Now that we know that the COVID-19 data is cumulative, we first need to transform it so that we can work with daily new cases rather than cumulative data in order to proceed with our regression analysis. After we get daily new cases as a row, and merge the dataframes for the EPA air quality data and the COVID-19 data, we will then plot a histogram showing what the distribution of daily new cases look like."
   ]
  },
  {
   "cell_type": "code",
   "execution_count": 29,
   "metadata": {},
   "outputs": [
    {
     "data": {
      "text/html": [
       "<div>\n",
       "<style scoped>\n",
       "    .dataframe tbody tr th:only-of-type {\n",
       "        vertical-align: middle;\n",
       "    }\n",
       "\n",
       "    .dataframe tbody tr th {\n",
       "        vertical-align: top;\n",
       "    }\n",
       "\n",
       "    .dataframe thead th {\n",
       "        text-align: right;\n",
       "    }\n",
       "</style>\n",
       "<table border=\"1\" class=\"dataframe\">\n",
       "  <thead>\n",
       "    <tr style=\"text-align: right;\">\n",
       "      <th></th>\n",
       "      <th>Date</th>\n",
       "      <th>NO2</th>\n",
       "      <th>AQI</th>\n",
       "      <th>Cases</th>\n",
       "      <th>Daily_Cases</th>\n",
       "    </tr>\n",
       "  </thead>\n",
       "  <tbody>\n",
       "    <tr>\n",
       "      <th>0</th>\n",
       "      <td>2016-01-01</td>\n",
       "      <td>23.250000</td>\n",
       "      <td>21.875000</td>\n",
       "      <td>0</td>\n",
       "      <td>0</td>\n",
       "    </tr>\n",
       "    <tr>\n",
       "      <th>1</th>\n",
       "      <td>2016-01-02</td>\n",
       "      <td>27.875000</td>\n",
       "      <td>26.375000</td>\n",
       "      <td>0</td>\n",
       "      <td>0</td>\n",
       "    </tr>\n",
       "    <tr>\n",
       "      <th>2</th>\n",
       "      <td>2016-01-03</td>\n",
       "      <td>26.500000</td>\n",
       "      <td>25.125000</td>\n",
       "      <td>0</td>\n",
       "      <td>0</td>\n",
       "    </tr>\n",
       "    <tr>\n",
       "      <th>3</th>\n",
       "      <td>2016-01-04</td>\n",
       "      <td>22.750000</td>\n",
       "      <td>21.375000</td>\n",
       "      <td>0</td>\n",
       "      <td>0</td>\n",
       "    </tr>\n",
       "    <tr>\n",
       "      <th>4</th>\n",
       "      <td>2016-01-05</td>\n",
       "      <td>17.375000</td>\n",
       "      <td>16.250000</td>\n",
       "      <td>0</td>\n",
       "      <td>0</td>\n",
       "    </tr>\n",
       "    <tr>\n",
       "      <th>...</th>\n",
       "      <td>...</td>\n",
       "      <td>...</td>\n",
       "      <td>...</td>\n",
       "      <td>...</td>\n",
       "      <td>...</td>\n",
       "    </tr>\n",
       "    <tr>\n",
       "      <th>2065</th>\n",
       "      <td>2021-08-27</td>\n",
       "      <td>17.111111</td>\n",
       "      <td>16.000000</td>\n",
       "      <td>345111</td>\n",
       "      <td>1110</td>\n",
       "    </tr>\n",
       "    <tr>\n",
       "      <th>2066</th>\n",
       "      <td>2021-08-28</td>\n",
       "      <td>8.888889</td>\n",
       "      <td>8.222222</td>\n",
       "      <td>346997</td>\n",
       "      <td>1886</td>\n",
       "    </tr>\n",
       "    <tr>\n",
       "      <th>2067</th>\n",
       "      <td>2021-08-29</td>\n",
       "      <td>9.777778</td>\n",
       "      <td>9.333333</td>\n",
       "      <td>348165</td>\n",
       "      <td>1168</td>\n",
       "    </tr>\n",
       "    <tr>\n",
       "      <th>2068</th>\n",
       "      <td>2021-08-30</td>\n",
       "      <td>10.777778</td>\n",
       "      <td>10.333333</td>\n",
       "      <td>348849</td>\n",
       "      <td>684</td>\n",
       "    </tr>\n",
       "    <tr>\n",
       "      <th>2069</th>\n",
       "      <td>2021-08-31</td>\n",
       "      <td>8.666667</td>\n",
       "      <td>8.333333</td>\n",
       "      <td>349846</td>\n",
       "      <td>997</td>\n",
       "    </tr>\n",
       "  </tbody>\n",
       "</table>\n",
       "<p>2070 rows × 5 columns</p>\n",
       "</div>"
      ],
      "text/plain": [
       "           Date        NO2        AQI   Cases  Daily_Cases\n",
       "0    2016-01-01  23.250000  21.875000       0            0\n",
       "1    2016-01-02  27.875000  26.375000       0            0\n",
       "2    2016-01-03  26.500000  25.125000       0            0\n",
       "3    2016-01-04  22.750000  21.375000       0            0\n",
       "4    2016-01-05  17.375000  16.250000       0            0\n",
       "...         ...        ...        ...     ...          ...\n",
       "2065 2021-08-27  17.111111  16.000000  345111         1110\n",
       "2066 2021-08-28   8.888889   8.222222  346997         1886\n",
       "2067 2021-08-29   9.777778   9.333333  348165         1168\n",
       "2068 2021-08-30  10.777778  10.333333  348849          684\n",
       "2069 2021-08-31   8.666667   8.333333  349846          997\n",
       "\n",
       "[2070 rows x 5 columns]"
      ]
     },
     "execution_count": 29,
     "metadata": {},
     "output_type": "execute_result"
    }
   ],
   "source": [
    "#Merge EPA dataframes by grouping by date and COVID-19 Dataframe\n",
    "epabydate = epa_df.groupby(['Date']).mean()\n",
    "merged_df = pd.merge(epabydate, covid_df_sd, how = 'left', on='Date')\n",
    "\n",
    "#Replace NaN values with 0, since there are 0 cases prior to 2020 in San Diego county\n",
    "merged_df['Cases'] = merged_df['Cases'].fillna(0).astype(int)\n",
    "\n",
    "#Calculate Daily new cases from the cumulative cases data in the  DataFrame\n",
    "new_col = [0]\n",
    "for i in range(1, len(merged_df)):\n",
    "    new_col.append(merged_df.loc[i, 'Cases'] - merged_df.loc[i-1, 'Cases'])\n",
    "\n",
    "#Add daily new cases column to dataframe\n",
    "merged_df['Daily_Cases'] = new_col\n",
    "\n",
    "#Display DataFrame\n",
    "merged_df"
   ]
  },
  {
   "cell_type": "markdown",
   "metadata": {},
   "source": [
    "Now that we have the daily new cases and included it into a merged dataframe that merges the EPA air quality data and COVID-19 dataframes. We are now able to plot a histogram that shows the distribution of daily new cases of COVID-19 in San Diego county."
   ]
  },
  {
   "cell_type": "code",
   "execution_count": 30,
   "metadata": {},
   "outputs": [
    {
     "data": {
      "text/plain": [
       "Text(0.5, 1.0, 'Daily New Cases of COVID-19')"
      ]
     },
     "execution_count": 30,
     "metadata": {},
     "output_type": "execute_result"
    },
    {
     "data": {
      "image/png": "[encoded data removed]",
      "text/plain": [
       "<Figure size 432x288 with 1 Axes>"
      ]
     },
     "metadata": {
      "needs_background": "light"
     },
     "output_type": "display_data"
    }
   ],
   "source": [
    "merged_df['Daily_Cases'].plot.hist(bins=20)\n",
    "plt.xlabel('Cases')\n",
    "plt.title('Daily New Cases of COVID-19')\n"
   ]
  },
  {
   "cell_type": "markdown",
   "metadata": {},
   "source": [
    "As we can see the data for daiy new cases is extremely right skewed. Since the majority of the data has only a few daily new cases and there are also many datapoints with 0 daily new cases. To help even out this distribution we apply a log function to our data which will also increase the accuracy of our regression analysis later on since skewed data can bias the results."
   ]
  },
  {
   "cell_type": "code",
   "execution_count": 31,
   "metadata": {},
   "outputs": [
    {
     "name": "stderr",
     "output_type": "stream",
     "text": [
      "C:\\Users\\burni\\AppData\\Local\\Programs\\Python\\Python310\\lib\\site-packages\\pandas\\core\\arraylike.py:397: RuntimeWarning: divide by zero encountered in log2\n",
      "  result = getattr(ufunc, method)(*inputs, **kwargs)\n"
     ]
    },
    {
     "data": {
      "text/plain": [
       "Text(0.5, 1.0, 'Base-2 Logarithm of Daily New Cases of COVID-19')"
      ]
     },
     "execution_count": 31,
     "metadata": {},
     "output_type": "execute_result"
    },
    {
     "data": {
      "image/png": "[encoded data removed]",
      "text/plain": [
       "<Figure size 432x288 with 1 Axes>"
      ]
     },
     "metadata": {
      "needs_background": "light"
     },
     "output_type": "display_data"
    }
   ],
   "source": [
    "#Take log of daily cases data\n",
    "merged_df['Log_Daily_Cases'] = np.log2(merged_df['Daily_Cases'])\n",
    "merged_df['Log_Daily_Cases'] = merged_df['Log_Daily_Cases'].replace(-np.inf, 0)\n",
    "\n",
    "#Plot the new distribution for Daily Cases\n",
    "merged_df['Log_Daily_Cases'].plot.hist(bins=20)\n",
    "plt.xlabel('Base-2 Log of Cases')\n",
    "plt.title('Base-2 Logarithm of Daily New Cases of COVID-19')\n"
   ]
  },
  {
   "cell_type": "markdown",
   "metadata": {},
   "source": [
    "As we can see there are still many data  points where there are 0 daily new cases which contributes to the spike that we see near 0. The rest of the data  appears to be approximately normal, with a bell-curve like distribution centered at 8. Since the data seems to be approximately  Gaussian we can perform regression analysis."
   ]
  },
  {
   "cell_type": "markdown",
   "metadata": {},
   "source": [
    "---\n",
    "#### Linear Regression\n",
    "Now we can perform linear regression between Daily New Cases and the air quality measures of NO<sub>2</sub> levels in the atmosphere. We will see that since the data is highly clustered near the x = 0 mark that the line of regression is likely to be biased. We then repeat the plot, except this time with the Base-2 Logarithm of Daily new Cases computed in the previous section which has a more even distribution."
   ]
  },
  {
   "cell_type": "code",
   "execution_count": 32,
   "metadata": {},
   "outputs": [
    {
     "data": {
      "text/plain": [
       "Text(0.5, 1.0, 'Daily New Cases vs. NO2 Levels')"
      ]
     },
     "execution_count": 32,
     "metadata": {},
     "output_type": "execute_result"
    },
    {
     "data": {
      "image/png": "[encoded data removed]",
      "text/plain": [
       "<Figure size 720x360 with 1 Axes>"
      ]
     },
     "metadata": {
      "needs_background": "light"
     },
     "output_type": "display_data"
    }
   ],
   "source": [
    "sns.lmplot(x = 'Daily_Cases',y = 'NO2', data = merged_df, aspect = 2)\n",
    "plt.title('Daily New Cases vs. NO2 Levels')"
   ]
  },
  {
   "cell_type": "code",
   "execution_count": 33,
   "metadata": {},
   "outputs": [
    {
     "data": {
      "text/plain": [
       "Text(0.5, 1.0, 'Base-2 Logarithm of Daily New Cases vs. NO2 Levels')"
      ]
     },
     "execution_count": 33,
     "metadata": {},
     "output_type": "execute_result"
    },
    {
     "data": {
      "image/png": "[encoded data removed]",
      "text/plain": [
       "<Figure size 720x360 with 1 Axes>"
      ]
     },
     "metadata": {
      "needs_background": "light"
     },
     "output_type": "display_data"
    }
   ],
   "source": [
    "sns.lmplot(x = 'Log_Daily_Cases',y = 'NO2', data = merged_df, aspect = 2)\n",
    "plt.title('Base-2 Logarithm of Daily New Cases vs. NO2 Levels')"
   ]
  },
  {
   "cell_type": "markdown",
   "metadata": {},
   "source": [
    "For the first plot, we can see that there likely was some biasing because of the tight distribution/clustering of data points near 0. That resulted in what looked like a positive relationship between COVID-19 cases and NO<sub>2</sub> levels. After we take the Base-2 logarithm of daily new cases to even out the distribution, the relationship then appears to be a slight negative relationship between Daily New Cases of COVID-19 and NO<sub>2</sub>. Since there appears to be an approximate linear relationship between the two variables we can now perform a t-test to determine whether this relationship is statistically signficant."
   ]
  }
 ],
 "metadata": {
  "kernelspec": {
   "display_name": "Python 3 (ipykernel)",
   "language": "python",
   "name": "python3"
  },
  "language_info": {
   "codemirror_mode": {
    "name": "ipython",
    "version": 3
   },
   "file_extension": ".py",
   "mimetype": "text/x-python",
   "name": "python",
   "nbconvert_exporter": "python",
   "pygments_lexer": "ipython3",
   "version": "3.10.2"
  }
 },
 "nbformat": 4,
 "nbformat_minor": 2
}
